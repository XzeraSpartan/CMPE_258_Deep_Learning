{
 "cells": [
  {
   "cell_type": "code",
   "execution_count": 1,
   "metadata": {},
   "outputs": [
    {
     "name": "stdout",
     "output_type": "stream",
     "text": [
      "Requirement already satisfied: matplotlib in /opt/homebrew/lib/python3.11/site-packages (3.8.3)\n",
      "Requirement already satisfied: contourpy>=1.0.1 in /opt/homebrew/lib/python3.11/site-packages (from matplotlib) (1.2.0)\n",
      "Requirement already satisfied: cycler>=0.10 in /opt/homebrew/lib/python3.11/site-packages (from matplotlib) (0.12.1)\n",
      "Requirement already satisfied: fonttools>=4.22.0 in /opt/homebrew/lib/python3.11/site-packages (from matplotlib) (4.49.0)\n",
      "Requirement already satisfied: kiwisolver>=1.3.1 in /opt/homebrew/lib/python3.11/site-packages (from matplotlib) (1.4.5)\n",
      "Requirement already satisfied: numpy<2,>=1.21 in /opt/homebrew/lib/python3.11/site-packages (from matplotlib) (1.26.4)\n",
      "Requirement already satisfied: packaging>=20.0 in /opt/homebrew/lib/python3.11/site-packages (from matplotlib) (23.2)\n",
      "Requirement already satisfied: pillow>=8 in /opt/homebrew/lib/python3.11/site-packages (from matplotlib) (10.2.0)\n",
      "Requirement already satisfied: pyparsing>=2.3.1 in /opt/homebrew/lib/python3.11/site-packages (from matplotlib) (3.1.1)\n",
      "Requirement already satisfied: python-dateutil>=2.7 in /opt/homebrew/lib/python3.11/site-packages (from matplotlib) (2.8.2)\n",
      "Requirement already satisfied: six>=1.5 in /opt/homebrew/lib/python3.11/site-packages (from python-dateutil>=2.7->matplotlib) (1.16.0)\n"
     ]
    }
   ],
   "source": [
    "import sys\n",
    "!{sys.executable} -m pip install matplotlib"
   ]
  },
  {
   "cell_type": "code",
   "execution_count": 2,
   "metadata": {},
   "outputs": [],
   "source": [
    "import numpy as np\n",
    "import torch\n",
    "import torch.nn as nn\n",
    "from torch.utils.data import Dataset\n",
    "from torch.utils.data import DataLoader\n",
    "import matplotlib.pyplot as plt"
   ]
  },
  {
   "cell_type": "code",
   "execution_count": 3,
   "metadata": {},
   "outputs": [],
   "source": [
    "def pam_gray(b):\n",
    "    if len(b)>1:\n",
    "        return (1-2*b[0])*(2**len(b[1:]) - pam_gray(b[1:]))\n",
    "    return 1-2*b[0]\n",
    "\n",
    "def qam(num_bits_per_symbol, normalize=True):\n",
    "    try:\n",
    "        assert num_bits_per_symbol % 2 == 0 # is even\n",
    "        assert num_bits_per_symbol >0 # is larger than zero\n",
    "    except AssertionError as error:\n",
    "        raise ValueError(\"num_bits_per_symbol must be a multiple of 2\") \\\n",
    "        from error\n",
    "    assert isinstance(normalize, bool), \"normalize must be boolean\"\n",
    "\n",
    "    # Build constellation by iterating through all points\n",
    "    c = np.zeros([2**num_bits_per_symbol], dtype=np.complex64)\n",
    "    for i in range(0, 2**num_bits_per_symbol):\n",
    "        b = np.array(list(np.binary_repr(i,num_bits_per_symbol)),\n",
    "                     dtype=np.int16)\n",
    "        c[i] = pam_gray(b[0::2]) + 1j*pam_gray(b[1::2]) # PAM in each dimension\n",
    "\n",
    "    if normalize: # Normalize to unit energy\n",
    "        n = int(num_bits_per_symbol/2)\n",
    "        qam_var = 1/(2**(n-2))*np.sum(np.linspace(1,2**n-1, 2**(n-1))**2)\n",
    "        c /= np.sqrt(qam_var)\n",
    "    return c\n",
    "\n",
    "def CreateConstellation(constellation_type, num_bits_per_symbol,normalize=True):\n",
    "    num_bits_per_symbol = int(num_bits_per_symbol)\n",
    "    if constellation_type==\"qam\":\n",
    "        assert num_bits_per_symbol%2 == 0 and num_bits_per_symbol>0,\\\n",
    "            \"num_bits_per_symbol must be a multiple of 2\"\n",
    "        num_bits_per_symbol = int(num_bits_per_symbol)\n",
    "\n",
    "        points = qam(num_bits_per_symbol, normalize=normalize)\n",
    "    return points"
   ]
  },
  {
   "cell_type": "code",
   "execution_count": 4,
   "metadata": {},
   "outputs": [],
   "source": [
    "def show(points, num_bits_per_symbol, labels=True, figsize=(7,7)):\n",
    "    \"\"\"Generate a scatter-plot of the constellation.\n",
    "\n",
    "    Input\n",
    "    -----\n",
    "    labels : bool\n",
    "        If `True`, the bit labels will be drawn next to each constellation\n",
    "        point. Defaults to `True`.\n",
    "\n",
    "    figsize : Two-element Tuple, float\n",
    "        Width and height in inches. Defaults to `(7,7)`.\n",
    "\n",
    "    Output\n",
    "    ------\n",
    "    : matplotlib.figure.Figure\n",
    "        A handle to a matplot figure object.\n",
    "    \"\"\"\n",
    "    maxval = np.max(np.abs(points))*1.05\n",
    "    fig = plt.figure(figsize=figsize)\n",
    "    ax = fig.add_subplot(111)\n",
    "    plt.xlim(-maxval, maxval)\n",
    "    plt.ylim(-maxval, maxval)\n",
    "    plt.scatter(np.real(points), np.imag(points))\n",
    "    ax.set_aspect(\"equal\", adjustable=\"box\")\n",
    "    plt.xlabel(\"Real Part\")\n",
    "    plt.ylabel(\"Imaginary Part\")\n",
    "    plt.grid(True, which=\"both\", axis=\"both\")\n",
    "    plt.title(\"Constellation Plot\")\n",
    "    if labels is True:\n",
    "        for j, p in enumerate(points):\n",
    "            plt.annotate(\n",
    "                np.binary_repr(j, num_bits_per_symbol),\n",
    "                (np.real(p), np.imag(p))\n",
    "            )\n",
    "    return fig"
   ]
  },
  {
   "cell_type": "code",
   "execution_count": 5,
   "metadata": {},
   "outputs": [
    {
     "data": {
      "text/plain": [
       "(16,)"
      ]
     },
     "execution_count": 5,
     "metadata": {},
     "output_type": "execute_result"
    }
   ],
   "source": [
    "NUM_BITS_PER_SYMBOL = 4 # QPSK: 2, QAM16\n",
    "points = CreateConstellation(\"qam\", NUM_BITS_PER_SYMBOL)\n",
    "points.shape"
   ]
  },
  {
   "cell_type": "code",
   "execution_count": 6,
   "metadata": {},
   "outputs": [
    {
     "data": {
      "image/png": "[encoded data removed]",
      "text/plain": [
       "<Figure size 700x700 with 1 Axes>"
      ]
     },
     "execution_count": 6,
     "metadata": {},
     "output_type": "execute_result"
    },
    {
     "data": {
      "image/png": "[encoded data removed]",
      "text/plain": [
       "<Figure size 700x700 with 1 Axes>"
      ]
     },
     "metadata": {},
     "output_type": "display_data"
    }
   ],
   "source": [
    "show(points, NUM_BITS_PER_SYMBOL)"
   ]
  },
  {
   "cell_type": "code",
   "execution_count": 7,
   "metadata": {},
   "outputs": [],
   "source": [
    "def BinarySource(shape):\n",
    "    return np.random.randint(2, size=shape).astype(np.float32)"
   ]
  },
  {
   "cell_type": "code",
   "execution_count": 8,
   "metadata": {},
   "outputs": [],
   "source": [
    "def complex_normal(shape, var=1.0):\n",
    "    stddev = np.sqrt(var/2)\n",
    "    xr = np.random.normal(loc=0.0, scale=stddev, size=shape)\n",
    "    xi = np.random.normal(loc=0.0, scale=stddev, size=shape)\n",
    "    x = xr + 1j*xi\n",
    "    return x"
   ]
  },
  {
   "cell_type": "code",
   "execution_count": 9,
   "metadata": {},
   "outputs": [],
   "source": [
    "class Mapper:\n",
    "    def __init__(self,\n",
    "                 constellation_type=None,\n",
    "                 num_bits_per_symbol=None,\n",
    "                 constellation=None,\n",
    "                 return_indices=False,\n",
    "                 #dtype=tf.complex64,\n",
    "                 #**kwargs\n",
    "                ):\n",
    "          self.num_bits_per_symbol = num_bits_per_symbol\n",
    "          self.binary_base = 2**np.arange(num_bits_per_symbol-1, -1, -1, dtype=int) #array([2, 1], dtype=int32)\n",
    "          self.points = CreateConstellation(constellation_type, num_bits_per_symbol) #(4,)\n",
    "    \n",
    "    def create_symbol(self, inputs):\n",
    "        #inputs: (64, 1024) #batch_size, bits len\n",
    "        new_shape = [-1] + [int(inputs.shape[-1] / self.num_bits_per_symbol), self.num_bits_per_symbol] #[-1, 512, 2]\n",
    "        reinputs_reshaped = np.reshape(inputs, new_shape) #(64, 512, 2)\n",
    "        # Convert the last dimension to an integer\n",
    "        int_rep = reinputs_reshaped * self.binary_base #(64, 512, 2)\n",
    "        int_rep = np.sum(int_rep, axis=-1) #(64, 512)\n",
    "        int_rep = int_rep.astype(np.int32)\n",
    "        #print(int_rep.shape)\n",
    "        # Map integers to constellation symbols\n",
    "        #x = tf.gather(self.points, int_rep, axis=0)\n",
    "        symbs_list = [self.points[val_int] for val_int in int_rep]\n",
    "        symbols=np.array(symbs_list) #(64, 512) complex64\n",
    "        #print(symbols.dtype)\n",
    "        return symbols"
   ]
  },
  {
   "cell_type": "code",
   "execution_count": 10,
   "metadata": {},
   "outputs": [],
   "source": [
    "def ebnodb2no(ebno_db, num_bits_per_symbol, coderate):\n",
    "    r\"\"\"Compute the noise variance `No` for a given `Eb/No` in dB.\n",
    "    Input\n",
    "    -----\n",
    "    ebno_db : float\n",
    "        The `Eb/No` value in dB.\n",
    "\n",
    "    num_bits_per_symbol : int\n",
    "        The number of bits per symbol.\n",
    "\n",
    "    coderate : float\n",
    "        The coderate used.\n",
    "\n",
    "    Output\n",
    "    ------\n",
    "    : float\n",
    "        The value of :math:`N_o` in linear scale.\n",
    "    \"\"\"\n",
    "    #ebno = tf.math.pow(tf.cast(10., dtype), ebno_db/10.)\n",
    "    ebno = np.power(10, ebno_db/10.0)\n",
    "    energy_per_symbol = 1\n",
    "    tmp= (ebno * coderate * float(num_bits_per_symbol)) / float(energy_per_symbol)\n",
    "    n0 = 1/tmp\n",
    "    return n0"
   ]
  },
  {
   "cell_type": "code",
   "execution_count": 11,
   "metadata": {},
   "outputs": [],
   "source": [
    "# custom dataset\n",
    "class ComplexDataset(Dataset):\n",
    "    def __init__(self, num_bits_per_symbol, Frame_SIZE=64, Blocklength = 1024, DB_MIN=-10, DB_MAX=20, totaldbs=2000, constellation_type=\"qam\", data_type=np.complex64):\n",
    "        self.points = CreateConstellation(constellation_type, num_bits_per_symbol)\n",
    "        print(self.points.shape) #(4,) complex64\n",
    "        self.shape = ([Frame_SIZE, Blocklength])# Blocklength [64, 1024]\n",
    "        self.constellation_type = constellation_type\n",
    "        self.num_bits_per_symbol = num_bits_per_symbol\n",
    "        self.data_type = data_type\n",
    "        self.mapper=Mapper(constellation_type=constellation_type, num_bits_per_symbol=num_bits_per_symbol)\n",
    "\n",
    "        ebno_dbs=np.linspace(DB_MIN, DB_MAX, totaldbs)\n",
    "        np.random.shuffle(ebno_dbs)\n",
    "        self.ebno_dbs = ebno_dbs\n",
    "    \n",
    "    def __getitem__(self, index):\n",
    "        ebno_db = self.ebno_dbs[index]\n",
    "\n",
    "        bits = BinarySource(self.shape)\n",
    "        #print(\"Shape of bits: \", bits.shape) #(64, 1024)\n",
    "\n",
    "        x=self.mapper.create_symbol(bits) #(64, 512) complex64\n",
    "\n",
    "        n0=ebnodb2no(ebno_db=ebno_db, num_bits_per_symbol=self.num_bits_per_symbol, coderate=1.0) #scalar 0.05\n",
    "        noise=complex_normal(x.shape, 1.0) #(64, 512) complex128\n",
    "        #print(noise.dtype)\n",
    "        noise = noise.astype(self.data_type)\n",
    "        noise *= np.sqrt(n0) \n",
    "        y=x+noise #(64, 512)\n",
    "        signal_complex = torch.from_numpy(y)\n",
    "\n",
    "        batch={}\n",
    "        batch['samples']=signal_complex #(64, 512)\n",
    "        batch['labels']=bits #(64, 1024)\n",
    "        return batch\n",
    "    \n",
    "    def __len__(self):\n",
    "        return len(self.ebno_dbs)"
   ]
  },
  {
   "cell_type": "code",
   "execution_count": 12,
   "metadata": {},
   "outputs": [
    {
     "name": "stdout",
     "output_type": "stream",
     "text": [
      "(16,)\n"
     ]
    }
   ],
   "source": [
    "NUM_BITS_PER_SYMBOL = 4\n",
    "BATCH_SIZE = 32\n",
    "Frame_SIZE = 64\n",
    "Blocklength = 1024\n",
    "DB_MIN = -20\n",
    "DB_MAX = 20\n",
    "dataset = ComplexDataset(num_bits_per_symbol=NUM_BITS_PER_SYMBOL, Frame_SIZE=Frame_SIZE, Blocklength=Blocklength, DB_MIN=DB_MIN, DB_MAX=DB_MAX, totaldbs=BATCH_SIZE*100)"
   ]
  },
  {
   "cell_type": "code",
   "execution_count": 13,
   "metadata": {},
   "outputs": [],
   "source": [
    "onesample = dataset[0]"
   ]
  },
  {
   "cell_type": "code",
   "execution_count": 14,
   "metadata": {},
   "outputs": [
    {
     "data": {
      "text/plain": [
       "dict_keys(['samples', 'labels'])"
      ]
     },
     "execution_count": 14,
     "metadata": {},
     "output_type": "execute_result"
    }
   ],
   "source": [
    "onesample.keys()"
   ]
  },
  {
   "cell_type": "code",
   "execution_count": 15,
   "metadata": {},
   "outputs": [
    {
     "data": {
      "text/plain": [
       "torch.Size([64, 256])"
      ]
     },
     "execution_count": 15,
     "metadata": {},
     "output_type": "execute_result"
    }
   ],
   "source": [
    "onesample['samples'].shape"
   ]
  },
  {
   "cell_type": "code",
   "execution_count": 16,
   "metadata": {},
   "outputs": [
    {
     "data": {
      "text/plain": [
       "(64, 1024)"
      ]
     },
     "execution_count": 16,
     "metadata": {},
     "output_type": "execute_result"
    }
   ],
   "source": [
    "onesample['labels'].shape"
   ]
  },
  {
   "cell_type": "code",
   "execution_count": 17,
   "metadata": {},
   "outputs": [],
   "source": [
    "# train, validation and test split\n",
    "train_size = int(0.8 * len(dataset)) \n",
    "val_size = len(dataset) - train_size\n",
    "train_set, val_set= torch.utils.data.random_split(dataset, [train_size, val_size])\n",
    "\n",
    "# dataloaders\n",
    "train_loader = DataLoader(dataset=train_set, batch_size=BATCH_SIZE, shuffle=True, pin_memory=True)\n",
    "val_loader = DataLoader(dataset=val_set, batch_size=1, shuffle=True, pin_memory=True)\n"
   ]
  },
  {
   "cell_type": "code",
   "execution_count": 18,
   "metadata": {},
   "outputs": [],
   "source": [
    "onebatch = next(iter(val_loader))"
   ]
  },
  {
   "cell_type": "code",
   "execution_count": 19,
   "metadata": {},
   "outputs": [
    {
     "data": {
      "text/plain": [
       "torch.Size([1, 64, 256])"
      ]
     },
     "execution_count": 19,
     "metadata": {},
     "output_type": "execute_result"
    }
   ],
   "source": [
    "onebatch['samples'].shape"
   ]
  },
  {
   "cell_type": "code",
   "execution_count": 20,
   "metadata": {},
   "outputs": [],
   "source": [
    "onebatch = next(iter(train_loader))"
   ]
  },
  {
   "cell_type": "code",
   "execution_count": 21,
   "metadata": {},
   "outputs": [
    {
     "data": {
      "text/plain": [
       "torch.Size([32, 64, 256])"
      ]
     },
     "execution_count": 21,
     "metadata": {},
     "output_type": "execute_result"
    }
   ],
   "source": [
    "onebatch['samples'].shape"
   ]
  },
  {
   "cell_type": "code",
   "execution_count": 22,
   "metadata": {},
   "outputs": [
    {
     "name": "stdout",
     "output_type": "stream",
     "text": [
      "Using device: mps\n"
     ]
    }
   ],
   "source": [
    "gpuid=0\n",
    "if torch.cuda.is_available():\n",
    "    device = torch.device('cuda:'+str(gpuid))  # CUDA GPU 0\n",
    "elif torch.backends.mps.is_available():\n",
    "    device = torch.device(\"mps\")\n",
    "else:\n",
    "    device = torch.device(\"cpu\")\n",
    "print(\"Using device:\", device)"
   ]
  },
  {
   "cell_type": "code",
   "execution_count": 23,
   "metadata": {},
   "outputs": [],
   "source": [
    "class Simplemodel(nn.Module):\n",
    "\n",
    "    def __init__(self, num_bits_per_symbol, H=64, W=512):\n",
    "        super(Simplemodel, self).__init__()\n",
    "        scale = 8\n",
    "        self.linear1=nn.Linear(in_features=2, out_features=scale*num_bits_per_symbol)\n",
    "        self.linear2=nn.Linear(in_features=scale*num_bits_per_symbol, out_features=num_bits_per_symbol)\n",
    "        self.activation = nn.ReLU()\n",
    "    \n",
    "    def forward(self, inputs):\n",
    "        y = inputs #[64, 64, 512]\n",
    "   \n",
    "        # Stack the tensors along a new dimension (axis 0)\n",
    "        z = torch.stack([y.real, y.imag], dim=0) #[2, 64, 64, 512]\n",
    "        z = z.permute(1, 2, 3, 0) #[64, 64, 512, 2]\n",
    "        z = self.linear1(z)\n",
    "        z = self.activation(z)\n",
    "        z = self.linear2(z)\n",
    "        z = nn.Sigmoid()(z) #[64, 64, 512, num_bits_per_symbol]\n",
    "        z = z.flatten(-2, -1) #combine last two dimension => [64, 64, 512*num_bits_per_symbol]\n",
    "        return z"
   ]
  },
  {
   "cell_type": "code",
   "execution_count": 24,
   "metadata": {},
   "outputs": [],
   "source": [
    "model = Simplemodel(num_bits_per_symbol=NUM_BITS_PER_SYMBOL, H=Frame_SIZE, W=Blocklength)"
   ]
  },
  {
   "cell_type": "code",
   "execution_count": 25,
   "metadata": {},
   "outputs": [],
   "source": [
    "output = model(onebatch['samples']) #[32, 64, 512] =>[32, 64, 1024]"
   ]
  },
  {
   "cell_type": "code",
   "execution_count": 26,
   "metadata": {},
   "outputs": [
    {
     "data": {
      "text/plain": [
       "torch.Size([32, 64, 1024])"
      ]
     },
     "execution_count": 26,
     "metadata": {},
     "output_type": "execute_result"
    }
   ],
   "source": [
    "output.shape"
   ]
  },
  {
   "cell_type": "code",
   "execution_count": 27,
   "metadata": {},
   "outputs": [
    {
     "data": {
      "text/plain": [
       "torch.float32"
      ]
     },
     "execution_count": 27,
     "metadata": {},
     "output_type": "execute_result"
    }
   ],
   "source": [
    "output.dtype"
   ]
  },
  {
   "cell_type": "code",
   "execution_count": 28,
   "metadata": {},
   "outputs": [],
   "source": [
    "# Setup loss and optimizer pip install ipywidgets\n",
    "loss_fn = nn.BCELoss() #nn.BCEWithLogitsLoss()\n",
    "optimizer = torch.optim.SGD(model.parameters(), lr=0.1)"
   ]
  },
  {
   "cell_type": "code",
   "execution_count": 29,
   "metadata": {},
   "outputs": [],
   "source": [
    "test=torch.tensor([0,0,0,1,1,1], dtype=torch.float)"
   ]
  },
  {
   "cell_type": "code",
   "execution_count": 30,
   "metadata": {},
   "outputs": [
    {
     "data": {
      "text/plain": [
       "tensor(0.)"
      ]
     },
     "execution_count": 30,
     "metadata": {},
     "output_type": "execute_result"
    }
   ],
   "source": [
    "loss_fn(test,test)"
   ]
  },
  {
   "cell_type": "code",
   "execution_count": 31,
   "metadata": {},
   "outputs": [
    {
     "data": {
      "text/plain": [
       "torch.float32"
      ]
     },
     "execution_count": 31,
     "metadata": {},
     "output_type": "execute_result"
    }
   ],
   "source": [
    "onebatch['labels'].dtype"
   ]
  },
  {
   "cell_type": "code",
   "execution_count": 32,
   "metadata": {},
   "outputs": [
    {
     "data": {
      "text/plain": [
       "tensor(0.7107, grad_fn=<BinaryCrossEntropyBackward0>)"
      ]
     },
     "execution_count": 32,
     "metadata": {},
     "output_type": "execute_result"
    }
   ],
   "source": [
    "loss_fn(output,onebatch['labels'])"
   ]
  },
  {
   "cell_type": "code",
   "execution_count": 33,
   "metadata": {},
   "outputs": [
    {
     "name": "stdout",
     "output_type": "stream",
     "text": [
      "Trainoutput folder: output/exp0212\n"
     ]
    }
   ],
   "source": [
    "import os\n",
    "trainoutput=os.path.join('output','exp0212')\n",
    "os.makedirs(trainoutput, exist_ok=True)\n",
    "print(\"Trainoutput folder:\", trainoutput)"
   ]
  },
  {
   "cell_type": "code",
   "execution_count": 34,
   "metadata": {},
   "outputs": [],
   "source": [
    "train_losses = []\n",
    "val_losses = []\n",
    "val_BERs = []"
   ]
  },
  {
   "cell_type": "code",
   "execution_count": 35,
   "metadata": {},
   "outputs": [],
   "source": [
    "model=model.to(device)"
   ]
  },
  {
   "cell_type": "code",
   "execution_count": 36,
   "metadata": {},
   "outputs": [
    {
     "name": "stderr",
     "output_type": "stream",
     "text": [
      "/opt/homebrew/lib/python3.11/site-packages/tqdm/auto.py:21: TqdmWarning: IProgress not found. Please update jupyter and ipywidgets. See https://ipywidgets.readthedocs.io/en/stable/user_install.html\n",
      "  from .autonotebook import tqdm as notebook_tqdm\n",
      "100%|███████████████████████████████████████████| 80/80 [00:10<00:00,  7.70it/s]\n",
      "100%|████████████████████████████████████████| 640/640 [00:03<00:00, 168.80it/s]\n"
     ]
    },
    {
     "name": "stdout",
     "output_type": "stream",
     "text": [
      "Epoch [1/20], Loss: 0.6525, Val Loss: 0.5992, Val BER: 0.2936\n"
     ]
    },
    {
     "name": "stderr",
     "output_type": "stream",
     "text": [
      "100%|███████████████████████████████████████████| 80/80 [00:08<00:00,  9.53it/s]\n",
      "100%|████████████████████████████████████████| 640/640 [00:02<00:00, 223.03it/s]\n"
     ]
    },
    {
     "name": "stdout",
     "output_type": "stream",
     "text": [
      "Epoch [2/20], Loss: 0.6125, Val Loss: 0.5859, Val BER: 0.2535\n"
     ]
    },
    {
     "name": "stderr",
     "output_type": "stream",
     "text": [
      "100%|███████████████████████████████████████████| 80/80 [00:08<00:00,  9.68it/s]\n",
      "100%|████████████████████████████████████████| 640/640 [00:02<00:00, 229.39it/s]\n"
     ]
    },
    {
     "name": "stdout",
     "output_type": "stream",
     "text": [
      "Epoch [3/20], Loss: 0.6011, Val Loss: 0.5269, Val BER: 0.2256\n"
     ]
    },
    {
     "name": "stderr",
     "output_type": "stream",
     "text": [
      "100%|███████████████████████████████████████████| 80/80 [00:08<00:00,  9.64it/s]\n",
      "100%|████████████████████████████████████████| 640/640 [00:02<00:00, 232.86it/s]\n"
     ]
    },
    {
     "name": "stdout",
     "output_type": "stream",
     "text": [
      "Epoch [4/20], Loss: 0.5951, Val Loss: 0.6226, Val BER: 0.2228\n"
     ]
    },
    {
     "name": "stderr",
     "output_type": "stream",
     "text": [
      "100%|███████████████████████████████████████████| 80/80 [00:08<00:00,  9.57it/s]\n",
      "100%|████████████████████████████████████████| 640/640 [00:02<00:00, 225.88it/s]\n"
     ]
    },
    {
     "name": "stdout",
     "output_type": "stream",
     "text": [
      "Epoch [5/20], Loss: 0.5909, Val Loss: 0.7212, Val BER: 0.2294\n"
     ]
    },
    {
     "name": "stderr",
     "output_type": "stream",
     "text": [
      "100%|███████████████████████████████████████████| 80/80 [00:08<00:00,  9.64it/s]\n",
      "100%|████████████████████████████████████████| 640/640 [00:02<00:00, 220.28it/s]\n"
     ]
    },
    {
     "name": "stdout",
     "output_type": "stream",
     "text": [
      "Epoch [6/20], Loss: 0.5874, Val Loss: 0.5851, Val BER: 0.2226\n"
     ]
    },
    {
     "name": "stderr",
     "output_type": "stream",
     "text": [
      "100%|███████████████████████████████████████████| 80/80 [00:08<00:00,  9.61it/s]\n",
      "100%|████████████████████████████████████████| 640/640 [00:02<00:00, 224.01it/s]\n"
     ]
    },
    {
     "name": "stdout",
     "output_type": "stream",
     "text": [
      "Epoch [7/20], Loss: 0.5842, Val Loss: 0.5211, Val BER: 0.2275\n"
     ]
    },
    {
     "name": "stderr",
     "output_type": "stream",
     "text": [
      "100%|███████████████████████████████████████████| 80/80 [00:08<00:00,  9.32it/s]\n",
      "100%|████████████████████████████████████████| 640/640 [00:02<00:00, 232.11it/s]\n"
     ]
    },
    {
     "name": "stdout",
     "output_type": "stream",
     "text": [
      "Epoch [8/20], Loss: 0.5811, Val Loss: 0.4847, Val BER: 0.2274\n"
     ]
    },
    {
     "name": "stderr",
     "output_type": "stream",
     "text": [
      "100%|███████████████████████████████████████████| 80/80 [00:09<00:00,  8.79it/s]\n",
      "100%|████████████████████████████████████████| 640/640 [00:02<00:00, 223.89it/s]\n"
     ]
    },
    {
     "name": "stdout",
     "output_type": "stream",
     "text": [
      "Epoch [9/20], Loss: 0.5781, Val Loss: 0.9545, Val BER: 0.2217\n"
     ]
    },
    {
     "name": "stderr",
     "output_type": "stream",
     "text": [
      "100%|███████████████████████████████████████████| 80/80 [00:10<00:00,  7.98it/s]\n",
      "100%|████████████████████████████████████████| 640/640 [00:03<00:00, 206.34it/s]\n"
     ]
    },
    {
     "name": "stdout",
     "output_type": "stream",
     "text": [
      "Epoch [10/20], Loss: 0.5750, Val Loss: 0.4737, Val BER: 0.2204\n"
     ]
    },
    {
     "name": "stderr",
     "output_type": "stream",
     "text": [
      "100%|███████████████████████████████████████████| 80/80 [00:09<00:00,  8.50it/s]\n",
      "100%|████████████████████████████████████████| 640/640 [00:02<00:00, 214.84it/s]\n"
     ]
    },
    {
     "name": "stdout",
     "output_type": "stream",
     "text": [
      "Epoch [11/20], Loss: 0.5720, Val Loss: 0.4704, Val BER: 0.2189\n"
     ]
    },
    {
     "name": "stderr",
     "output_type": "stream",
     "text": [
      "100%|███████████████████████████████████████████| 80/80 [00:09<00:00,  8.71it/s]\n",
      "100%|████████████████████████████████████████| 640/640 [00:03<00:00, 188.86it/s]\n"
     ]
    },
    {
     "name": "stdout",
     "output_type": "stream",
     "text": [
      "Epoch [12/20], Loss: 0.5690, Val Loss: 0.8629, Val BER: 0.2155\n"
     ]
    },
    {
     "name": "stderr",
     "output_type": "stream",
     "text": [
      "100%|███████████████████████████████████████████| 80/80 [00:10<00:00,  7.55it/s]\n",
      "100%|████████████████████████████████████████| 640/640 [00:03<00:00, 209.62it/s]\n"
     ]
    },
    {
     "name": "stdout",
     "output_type": "stream",
     "text": [
      "Epoch [13/20], Loss: 0.5658, Val Loss: 0.6226, Val BER: 0.2128\n"
     ]
    },
    {
     "name": "stderr",
     "output_type": "stream",
     "text": [
      "100%|███████████████████████████████████████████| 80/80 [00:09<00:00,  8.59it/s]\n",
      "100%|████████████████████████████████████████| 640/640 [00:03<00:00, 208.46it/s]\n"
     ]
    },
    {
     "name": "stdout",
     "output_type": "stream",
     "text": [
      "Epoch [14/20], Loss: 0.5625, Val Loss: 0.4552, Val BER: 0.2124\n"
     ]
    },
    {
     "name": "stderr",
     "output_type": "stream",
     "text": [
      "100%|███████████████████████████████████████████| 80/80 [00:09<00:00,  8.35it/s]\n",
      "100%|████████████████████████████████████████| 640/640 [00:03<00:00, 207.49it/s]\n"
     ]
    },
    {
     "name": "stdout",
     "output_type": "stream",
     "text": [
      "Epoch [15/20], Loss: 0.5593, Val Loss: 0.4503, Val BER: 0.2071\n"
     ]
    },
    {
     "name": "stderr",
     "output_type": "stream",
     "text": [
      "100%|███████████████████████████████████████████| 80/80 [00:09<00:00,  8.67it/s]\n",
      "100%|████████████████████████████████████████| 640/640 [00:03<00:00, 207.26it/s]\n"
     ]
    },
    {
     "name": "stdout",
     "output_type": "stream",
     "text": [
      "Epoch [16/20], Loss: 0.5559, Val Loss: 0.5561, Val BER: 0.2070\n"
     ]
    },
    {
     "name": "stderr",
     "output_type": "stream",
     "text": [
      "100%|███████████████████████████████████████████| 80/80 [00:09<00:00,  8.45it/s]\n",
      "100%|████████████████████████████████████████| 640/640 [00:02<00:00, 213.86it/s]\n"
     ]
    },
    {
     "name": "stdout",
     "output_type": "stream",
     "text": [
      "Epoch [17/20], Loss: 0.5525, Val Loss: 0.4400, Val BER: 0.2025\n"
     ]
    },
    {
     "name": "stderr",
     "output_type": "stream",
     "text": [
      "100%|███████████████████████████████████████████| 80/80 [00:09<00:00,  8.70it/s]\n",
      "100%|████████████████████████████████████████| 640/640 [00:03<00:00, 209.96it/s]\n"
     ]
    },
    {
     "name": "stdout",
     "output_type": "stream",
     "text": [
      "Epoch [18/20], Loss: 0.5490, Val Loss: 0.4920, Val BER: 0.2037\n"
     ]
    },
    {
     "name": "stderr",
     "output_type": "stream",
     "text": [
      "100%|███████████████████████████████████████████| 80/80 [00:09<00:00,  8.63it/s]\n",
      "100%|████████████████████████████████████████| 640/640 [00:03<00:00, 205.58it/s]\n"
     ]
    },
    {
     "name": "stdout",
     "output_type": "stream",
     "text": [
      "Epoch [19/20], Loss: 0.5455, Val Loss: 0.4504, Val BER: 0.2024\n"
     ]
    },
    {
     "name": "stderr",
     "output_type": "stream",
     "text": [
      "100%|███████████████████████████████████████████| 80/80 [00:09<00:00,  8.57it/s]\n",
      "100%|████████████████████████████████████████| 640/640 [00:02<00:00, 213.35it/s]"
     ]
    },
    {
     "name": "stdout",
     "output_type": "stream",
     "text": [
      "Epoch [20/20], Loss: 0.5420, Val Loss: 0.6340, Val BER: 0.2006\n"
     ]
    },
    {
     "name": "stderr",
     "output_type": "stream",
     "text": [
      "\n"
     ]
    }
   ],
   "source": [
    "from tqdm.auto import tqdm\n",
    "# Training loop\n",
    "start_epoch = 0\n",
    "num_epochs =20\n",
    "for epoch in range(start_epoch, num_epochs):\n",
    "    total_loss = 0.0\n",
    "    model.train()  # Set the model to training mode\n",
    "\n",
    "    for index, data_batch in enumerate(tqdm(train_loader)):\n",
    "        batch = {k: v.to(device) for k, v in data_batch.items()}\n",
    "        samples = batch['samples']\n",
    "        labels = batch['labels']\n",
    "        outputs = model(samples)  # forward pass \n",
    "        loss = loss_fn(outputs, labels) \n",
    "        loss.backward()  # backward pass\n",
    "        optimizer.step()  # update the weights\n",
    "        total_loss += loss.item()  # accumulate the loss\n",
    "        optimizer.zero_grad()  # Zero the gradients\n",
    "\n",
    "    # Print average loss for the epoch\n",
    "    average_loss = total_loss / len(train_loader)\n",
    "\n",
    "    # Validation\n",
    "    model.eval()  # Set the model to evaluation mode\n",
    "    BER_batch=[]\n",
    "    with torch.no_grad():\n",
    "        for index, data_batch in enumerate(tqdm(val_loader)):\n",
    "            batch = {k: v.to(device) for k, v in data_batch.items()}\n",
    "            samples = batch['samples']\n",
    "            labels = batch['labels']\n",
    "            val_outputs = model(samples)\n",
    "            val_loss = loss_fn(val_outputs, labels)\n",
    "\n",
    "            # Convert probabilities to binary predictions (0 or 1)\n",
    "            binary_predictions = torch.round(val_outputs)\n",
    "\n",
    "            # Calculate Bit Error Rate (BER)\n",
    "            error_count = torch.sum(binary_predictions != labels).float()  # Count of unequal bits\n",
    "            error_rate = error_count / len(labels.flatten())  # Error rate calculation\n",
    "            BER_batch.append(error_rate.item())\n",
    "            \n",
    "    # Save performance details\n",
    "    train_losses.append(average_loss)\n",
    "    val_losses.append(val_loss.item())\n",
    "    BER_batch_mean=np.mean(BER_batch)\n",
    "    val_BERs.append(BER_batch_mean)#(BER.item())\n",
    "\n",
    "    # Print or log validation loss after each epoch\n",
    "    print(f\"Epoch [{epoch + 1}/{num_epochs}], Loss: {average_loss:.4f}, Val Loss: {val_loss:.4f}, Val BER: {BER_batch_mean:.4f}\")\n"
   ]
  },
  {
   "cell_type": "code",
   "execution_count": 37,
   "metadata": {},
   "outputs": [],
   "source": [
    "# Save the final trained model\n",
    "checkpoint = {\n",
    "    'epoch': epoch,\n",
    "    'model_state_dict': model.state_dict(),\n",
    "}\n",
    "modelsave_path = os.path.join(trainoutput, 'simple_model.pth')\n",
    "torch.save(checkpoint, modelsave_path)"
   ]
  },
  {
   "cell_type": "code",
   "execution_count": 38,
   "metadata": {
    "scrolled": true
   },
   "outputs": [
    {
     "data": {
      "image/png": "[encoded data removed]",
      "text/plain": [
       "<Figure size 700x300 with 1 Axes>"
      ]
     },
     "metadata": {},
     "output_type": "display_data"
    }
   ],
   "source": [
    "# Plot Training Loss and Validation Loss\n",
    "plt.figure(figsize=(7, 3))\n",
    "plt.plot(train_losses, label='Training Loss')\n",
    "plt.plot(val_losses, label='Validation Loss')\n",
    "plt.xlabel('Epochs')\n",
    "plt.ylabel('Loss')\n",
    "plt.legend()\n",
    "plt.title('Training and Validation Loss Over Epochs')\n",
    "plt.grid(True)"
   ]
  },
  {
   "cell_type": "code",
   "execution_count": 39,
   "metadata": {},
   "outputs": [
    {
     "data": {
      "image/png": "[encoded data removed]",
      "text/plain": [
       "<Figure size 700x300 with 1 Axes>"
      ]
     },
     "metadata": {},
     "output_type": "display_data"
    }
   ],
   "source": [
    "# Plot Validation BER\n",
    "plt.figure(figsize=(7, 3))\n",
    "plt.plot(val_BERs, label='Validation BER')\n",
    "plt.xlabel('Epochs')\n",
    "plt.ylabel('BER')\n",
    "plt.legend()\n",
    "plt.title('Bit Error Rate (BER) on validation set')\n",
    "plt.grid(True)"
   ]
  },
  {
   "cell_type": "code",
   "execution_count": 40,
   "metadata": {},
   "outputs": [],
   "source": [
    "class EnhancedSimpleModel2(nn.Module):\n",
    "\n",
    "    def __init__(self, num_bits_per_symbol, H=64, W=512):\n",
    "        super(EnhancedSimpleModel2, self).__init__()\n",
    "        scale = 16\n",
    "        self.linear1 = nn.Linear(in_features=2, out_features=scale * num_bits_per_symbol)\n",
    "        self.linear2 = nn.Linear(in_features=scale * num_bits_per_symbol, out_features=scale * num_bits_per_symbol * 2)\n",
    "        self.linear3 = nn.Linear(in_features=scale * num_bits_per_symbol * 2, out_features=scale * num_bits_per_symbol * 2)\n",
    "        self.linear4 = nn.Linear(in_features=scale * num_bits_per_symbol * 2, out_features=num_bits_per_symbol)\n",
    "        self.activation = nn.LeakyReLU()\n",
    "\n",
    "    def forward(self, inputs):\n",
    "        y = inputs\n",
    "        z = torch.stack([y.real, y.imag], dim=0)\n",
    "        z = z.permute(1, 2, 3, 0)\n",
    "        z = self.linear1(z)\n",
    "        z = self.activation(z)\n",
    "        z = self.linear2(z)\n",
    "        z = self.activation(z)\n",
    "        z = self.linear3(z)\n",
    "        z = self.activation(z)\n",
    "        z = self.linear4(z)\n",
    "        z = nn.Sigmoid()(z)\n",
    "        z = z.flatten(-2, -1)\n",
    "        return z"
   ]
  },
  {
   "cell_type": "code",
   "execution_count": 41,
   "metadata": {},
   "outputs": [],
   "source": [
    "model = EnhancedSimpleModel2(num_bits_per_symbol=NUM_BITS_PER_SYMBOL, H=Frame_SIZE, W=Blocklength)"
   ]
  },
  {
   "cell_type": "code",
   "execution_count": 42,
   "metadata": {},
   "outputs": [],
   "source": [
    "output = model(onebatch['samples']) #[32, 64, 512] =>[32, 64, 1024]"
   ]
  },
  {
   "cell_type": "code",
   "execution_count": 43,
   "metadata": {},
   "outputs": [],
   "source": [
    "# Setup loss and optimizer pip install ipywidgets\n",
    "loss_fn = nn.BCELoss() #nn.BCEWithLogitsLoss()\n",
    "optimizer = torch.optim.Adam(model.parameters(), lr=0.1)\n"
   ]
  },
  {
   "cell_type": "code",
   "execution_count": 44,
   "metadata": {},
   "outputs": [],
   "source": [
    "train_losses = []\n",
    "val_losses = []\n",
    "val_BERs = []"
   ]
  },
  {
   "cell_type": "code",
   "execution_count": 45,
   "metadata": {},
   "outputs": [],
   "source": [
    "model=model.to(device)"
   ]
  },
  {
   "cell_type": "code",
   "execution_count": 46,
   "metadata": {},
   "outputs": [
    {
     "name": "stderr",
     "output_type": "stream",
     "text": [
      "100%|███████████████████████████████████████████| 80/80 [00:41<00:00,  1.95it/s]\n",
      "100%|████████████████████████████████████████| 640/640 [00:05<00:00, 109.03it/s]\n"
     ]
    },
    {
     "name": "stdout",
     "output_type": "stream",
     "text": [
      "Epoch [1/15], Loss: 0.7386, Val Loss: 0.4306, Val BER: 0.1935\n"
     ]
    },
    {
     "name": "stderr",
     "output_type": "stream",
     "text": [
      "100%|███████████████████████████████████████████| 80/80 [00:38<00:00,  2.06it/s]\n",
      "100%|████████████████████████████████████████| 640/640 [00:05<00:00, 121.98it/s]\n"
     ]
    },
    {
     "name": "stdout",
     "output_type": "stream",
     "text": [
      "Epoch [2/15], Loss: 0.4150, Val Loss: 0.4264, Val BER: 0.1932\n"
     ]
    },
    {
     "name": "stderr",
     "output_type": "stream",
     "text": [
      "100%|███████████████████████████████████████████| 80/80 [00:40<00:00,  2.00it/s]\n",
      "100%|████████████████████████████████████████| 640/640 [00:05<00:00, 118.35it/s]\n"
     ]
    },
    {
     "name": "stdout",
     "output_type": "stream",
     "text": [
      "Epoch [3/15], Loss: 0.4113, Val Loss: 0.4253, Val BER: 0.1928\n"
     ]
    },
    {
     "name": "stderr",
     "output_type": "stream",
     "text": [
      "100%|███████████████████████████████████████████| 80/80 [00:41<00:00,  1.91it/s]\n",
      "100%|████████████████████████████████████████| 640/640 [00:05<00:00, 108.46it/s]\n"
     ]
    },
    {
     "name": "stdout",
     "output_type": "stream",
     "text": [
      "Epoch [4/15], Loss: 0.4122, Val Loss: 0.4202, Val BER: 0.1918\n"
     ]
    },
    {
     "name": "stderr",
     "output_type": "stream",
     "text": [
      "100%|███████████████████████████████████████████| 80/80 [00:39<00:00,  2.02it/s]\n",
      "100%|████████████████████████████████████████| 640/640 [00:06<00:00, 101.70it/s]\n"
     ]
    },
    {
     "name": "stdout",
     "output_type": "stream",
     "text": [
      "Epoch [5/15], Loss: 0.4106, Val Loss: 0.4277, Val BER: 0.1915\n"
     ]
    },
    {
     "name": "stderr",
     "output_type": "stream",
     "text": [
      "100%|███████████████████████████████████████████| 80/80 [00:40<00:00,  1.97it/s]\n",
      "100%|████████████████████████████████████████| 640/640 [00:05<00:00, 118.77it/s]\n"
     ]
    },
    {
     "name": "stdout",
     "output_type": "stream",
     "text": [
      "Epoch [6/15], Loss: 0.4082, Val Loss: 0.4205, Val BER: 0.1912\n"
     ]
    },
    {
     "name": "stderr",
     "output_type": "stream",
     "text": [
      "100%|███████████████████████████████████████████| 80/80 [00:39<00:00,  2.01it/s]\n",
      "100%|████████████████████████████████████████| 640/640 [00:05<00:00, 114.07it/s]\n"
     ]
    },
    {
     "name": "stdout",
     "output_type": "stream",
     "text": [
      "Epoch [7/15], Loss: 0.4082, Val Loss: 0.4182, Val BER: 0.1913\n"
     ]
    },
    {
     "name": "stderr",
     "output_type": "stream",
     "text": [
      "100%|███████████████████████████████████████████| 80/80 [00:41<00:00,  1.95it/s]\n",
      "100%|████████████████████████████████████████| 640/640 [00:05<00:00, 113.09it/s]\n"
     ]
    },
    {
     "name": "stdout",
     "output_type": "stream",
     "text": [
      "Epoch [8/15], Loss: 0.4080, Val Loss: 0.4186, Val BER: 0.1917\n"
     ]
    },
    {
     "name": "stderr",
     "output_type": "stream",
     "text": [
      "100%|███████████████████████████████████████████| 80/80 [00:40<00:00,  1.96it/s]\n",
      "100%|████████████████████████████████████████| 640/640 [00:05<00:00, 113.47it/s]\n"
     ]
    },
    {
     "name": "stdout",
     "output_type": "stream",
     "text": [
      "Epoch [9/15], Loss: 0.4080, Val Loss: 0.4224, Val BER: 0.1919\n"
     ]
    },
    {
     "name": "stderr",
     "output_type": "stream",
     "text": [
      "100%|███████████████████████████████████████████| 80/80 [00:41<00:00,  1.93it/s]\n",
      "100%|████████████████████████████████████████| 640/640 [00:05<00:00, 117.69it/s]\n"
     ]
    },
    {
     "name": "stdout",
     "output_type": "stream",
     "text": [
      "Epoch [10/15], Loss: 0.4086, Val Loss: 0.4411, Val BER: 0.1924\n"
     ]
    },
    {
     "name": "stderr",
     "output_type": "stream",
     "text": [
      "100%|███████████████████████████████████████████| 80/80 [00:39<00:00,  2.04it/s]\n",
      "100%|████████████████████████████████████████| 640/640 [00:05<00:00, 119.74it/s]\n"
     ]
    },
    {
     "name": "stdout",
     "output_type": "stream",
     "text": [
      "Epoch [11/15], Loss: 0.4067, Val Loss: 0.4271, Val BER: 0.1920\n"
     ]
    },
    {
     "name": "stderr",
     "output_type": "stream",
     "text": [
      "100%|███████████████████████████████████████████| 80/80 [00:38<00:00,  2.08it/s]\n",
      "100%|████████████████████████████████████████| 640/640 [00:05<00:00, 114.04it/s]\n"
     ]
    },
    {
     "name": "stdout",
     "output_type": "stream",
     "text": [
      "Epoch [12/15], Loss: 0.4084, Val Loss: 0.4191, Val BER: 0.1921\n"
     ]
    },
    {
     "name": "stderr",
     "output_type": "stream",
     "text": [
      "100%|███████████████████████████████████████████| 80/80 [00:39<00:00,  2.02it/s]\n",
      "100%|████████████████████████████████████████| 640/640 [00:05<00:00, 109.38it/s]\n"
     ]
    },
    {
     "name": "stdout",
     "output_type": "stream",
     "text": [
      "Epoch [13/15], Loss: 0.4060, Val Loss: 0.4152, Val BER: 0.1909\n"
     ]
    },
    {
     "name": "stderr",
     "output_type": "stream",
     "text": [
      "100%|███████████████████████████████████████████| 80/80 [00:39<00:00,  2.05it/s]\n",
      "100%|████████████████████████████████████████| 640/640 [00:05<00:00, 115.42it/s]\n"
     ]
    },
    {
     "name": "stdout",
     "output_type": "stream",
     "text": [
      "Epoch [14/15], Loss: 0.4049, Val Loss: 0.4197, Val BER: 0.1920\n"
     ]
    },
    {
     "name": "stderr",
     "output_type": "stream",
     "text": [
      "100%|███████████████████████████████████████████| 80/80 [00:40<00:00,  1.98it/s]\n",
      "100%|████████████████████████████████████████| 640/640 [00:05<00:00, 107.56it/s]"
     ]
    },
    {
     "name": "stdout",
     "output_type": "stream",
     "text": [
      "Epoch [15/15], Loss: 0.4077, Val Loss: 0.4168, Val BER: 0.1918\n"
     ]
    },
    {
     "name": "stderr",
     "output_type": "stream",
     "text": [
      "\n"
     ]
    }
   ],
   "source": [
    "from tqdm.auto import tqdm\n",
    "from torch.optim.lr_scheduler import ReduceLROnPlateau\n",
    "\n",
    "# Initialize the ReduceLROnPlateau scheduler\n",
    "scheduler = ReduceLROnPlateau(optimizer, mode='min', factor=0.1, patience=10, threshold=0.01)\n",
    "\n",
    "start_epoch = 0\n",
    "num_epochs = 15\n",
    "for epoch in range(start_epoch, num_epochs):\n",
    "    model.train()  # Set the model to training mode\n",
    "    total_loss = 0.0\n",
    "\n",
    "    for data_batch in tqdm(train_loader):\n",
    "        batch = {k: v.to(device) for k, v in data_batch.items()}\n",
    "        samples = batch['samples']\n",
    "        labels = batch['labels']\n",
    "        optimizer.zero_grad()  # Zero the gradients\n",
    "        outputs = model(samples)  # forward pass\n",
    "        loss = loss_fn(outputs, labels)\n",
    "        loss.backward()  # backward pass\n",
    "        optimizer.step()  # update the weights\n",
    "        total_loss += loss.item()  # accumulate the loss\n",
    "\n",
    "    # Print average loss for the epoch\n",
    "    average_loss = total_loss / len(train_loader)\n",
    "\n",
    "    # Validation phase\n",
    "    model.eval()  # Set the model to evaluation mode\n",
    "    total_val_loss = 0.0\n",
    "    BER_batch = []\n",
    "    with torch.no_grad():\n",
    "        for data_batch in tqdm(val_loader):\n",
    "            batch = {k: v.to(device) for k, v in data_batch.items()}\n",
    "            samples = batch['samples']\n",
    "            labels = batch['labels']\n",
    "            val_outputs = model(samples)\n",
    "            val_loss = loss_fn(val_outputs, labels)\n",
    "            total_val_loss += val_loss.item()\n",
    "\n",
    "            binary_predictions = torch.round(val_outputs)\n",
    "            error_count = torch.sum(binary_predictions != labels).float()\n",
    "            error_rate = error_count / len(labels.flatten())\n",
    "            BER_batch.append(error_rate.item())\n",
    "\n",
    "    # Calculate average validation loss\n",
    "    average_val_loss = total_val_loss / len(val_loader)\n",
    "    BER_batch_mean = np.mean(BER_batch)\n",
    "         \n",
    "    # Save performance details\n",
    "    train_losses.append(average_loss)\n",
    "    val_losses.append(val_loss.item())\n",
    "    BER_batch_mean=np.mean(BER_batch)\n",
    "    val_BERs.append(BER_batch_mean)#(BER.item())\n",
    "    # Step the scheduler with the average validation loss\n",
    "    scheduler.step(average_val_loss)\n",
    "\n",
    "    # Logging\n",
    "    print(f\"Epoch [{epoch + 1}/{num_epochs}], Loss: {average_loss:.4f}, Val Loss: {average_val_loss:.4f}, Val BER: {BER_batch_mean:.4f}\")\n"
   ]
  },
  {
   "cell_type": "code",
   "execution_count": 47,
   "metadata": {},
   "outputs": [],
   "source": [
    "# Save the final trained model\n",
    "checkpoint = {\n",
    "    'epoch': epoch,\n",
    "    'model_state_dict': model.state_dict(),\n",
    "}\n",
    "modelsave_path = os.path.join(trainoutput, 'simple_model.pth')\n",
    "torch.save(checkpoint, modelsave_path)"
   ]
  },
  {
   "cell_type": "code",
   "execution_count": 48,
   "metadata": {},
   "outputs": [
    {
     "data": {
      "image/png": "[encoded data removed]",
      "text/plain": [
       "<Figure size 700x300 with 1 Axes>"
      ]
     },
     "metadata": {},
     "output_type": "display_data"
    }
   ],
   "source": [
    "# Plot Training Loss and Validation Loss\n",
    "plt.figure(figsize=(7, 3))\n",
    "plt.plot(train_losses, label='Training Loss')\n",
    "plt.plot(val_losses, label='Validation Loss')\n",
    "plt.xlabel('Epochs')\n",
    "plt.ylabel('Loss')\n",
    "plt.legend()\n",
    "plt.title('Training and Validation Loss Over Epochs')\n",
    "plt.grid(True)"
   ]
  },
  {
   "cell_type": "code",
   "execution_count": 49,
   "metadata": {},
   "outputs": [
    {
     "data": {
      "image/png": "[encoded data removed]",
      "text/plain": [
       "<Figure size 700x300 with 1 Axes>"
      ]
     },
     "metadata": {},
     "output_type": "display_data"
    }
   ],
   "source": [
    "# Plot Validation BER\n",
    "plt.figure(figsize=(7, 3))\n",
    "plt.plot(val_BERs, label='Validation BER')\n",
    "plt.xlabel('Epochs')\n",
    "plt.ylabel('BER')\n",
    "plt.legend()\n",
    "plt.title('Bit Error Rate (BER) on validation set')\n",
    "plt.grid(True)"
   ]
  },
  {
   "cell_type": "code",
   "execution_count": 50,
   "metadata": {},
   "outputs": [],
   "source": [
    "class EnhancedSimpleModel3(nn.Module):\n",
    "\n",
    "    def __init__(self, num_bits_per_symbol, H=64, W=512):\n",
    "        super(EnhancedSimpleModel3, self).__init__()\n",
    "        scale = 8\n",
    "        self.linear1 = nn.Linear(in_features=2, out_features=scale * num_bits_per_symbol)\n",
    "        self.linear2 = nn.Linear(in_features=scale * num_bits_per_symbol, out_features=scale * num_bits_per_symbol * 2)\n",
    "        self.linear3 = nn.Linear(in_features=scale * num_bits_per_symbol * 2, out_features=scale * num_bits_per_symbol * 2)\n",
    "        self.linear4 = nn.Linear(in_features=scale * num_bits_per_symbol * 2, out_features=scale * num_bits_per_symbol)\n",
    "        self.linear5 = nn.Linear(in_features=scale * num_bits_per_symbol, out_features=num_bits_per_symbol)\n",
    "        self.activation = nn.ReLU()\n",
    "\n",
    "    def forward(self, inputs):\n",
    "        y = inputs\n",
    "        z = torch.stack([y.real, y.imag], dim=0)\n",
    "        z = z.permute(1, 2, 3, 0)\n",
    "        z = self.linear1(z)\n",
    "        z = self.activation(z)\n",
    "        z = self.linear2(z)\n",
    "        z = self.activation(z)\n",
    "        z = self.linear3(z)\n",
    "        z = self.activation(z)\n",
    "        z = self.linear4(z)\n",
    "        z = self.activation(z)\n",
    "        z = self.linear5(z)\n",
    "        z = nn.Sigmoid()(z)\n",
    "        z = z.flatten(-2, -1)\n",
    "        return z"
   ]
  },
  {
   "cell_type": "code",
   "execution_count": 51,
   "metadata": {},
   "outputs": [],
   "source": [
    "model = EnhancedSimpleModel3(num_bits_per_symbol=NUM_BITS_PER_SYMBOL, H=Frame_SIZE, W=Blocklength)"
   ]
  },
  {
   "cell_type": "code",
   "execution_count": 52,
   "metadata": {},
   "outputs": [],
   "source": [
    "output = model(onebatch['samples']) #[32, 64, 512] =>[32, 64, 1024]"
   ]
  },
  {
   "cell_type": "code",
   "execution_count": 53,
   "metadata": {},
   "outputs": [],
   "source": [
    "# Setup loss and optimizer pip install ipywidgets\n",
    "loss_fn = nn.BCELoss() #nn.BCEWithLogitsLoss()\n",
    "optimizer = torch.optim.Adam(model.parameters(), lr=0.1)\n"
   ]
  },
  {
   "cell_type": "code",
   "execution_count": 54,
   "metadata": {},
   "outputs": [],
   "source": [
    "train_losses = []\n",
    "val_losses = []\n",
    "val_BERs = []"
   ]
  },
  {
   "cell_type": "code",
   "execution_count": 55,
   "metadata": {},
   "outputs": [],
   "source": [
    "model=model.to(device)"
   ]
  },
  {
   "cell_type": "code",
   "execution_count": 56,
   "metadata": {},
   "outputs": [
    {
     "name": "stderr",
     "output_type": "stream",
     "text": [
      "100%|███████████████████████████████████████████| 80/80 [00:25<00:00,  3.18it/s]\n",
      "100%|████████████████████████████████████████| 640/640 [00:04<00:00, 138.58it/s]\n"
     ]
    },
    {
     "name": "stdout",
     "output_type": "stream",
     "text": [
      "Epoch [1/15], Loss: 0.6408, Val Loss: 0.5192, Val BER: 0.2546\n"
     ]
    },
    {
     "name": "stderr",
     "output_type": "stream",
     "text": [
      "100%|███████████████████████████████████████████| 80/80 [00:24<00:00,  3.31it/s]\n",
      "100%|████████████████████████████████████████| 640/640 [00:04<00:00, 143.07it/s]\n"
     ]
    },
    {
     "name": "stdout",
     "output_type": "stream",
     "text": [
      "Epoch [2/15], Loss: 0.4968, Val Loss: 0.4980, Val BER: 0.2296\n"
     ]
    },
    {
     "name": "stderr",
     "output_type": "stream",
     "text": [
      "100%|███████████████████████████████████████████| 80/80 [00:24<00:00,  3.25it/s]\n",
      "100%|████████████████████████████████████████| 640/640 [00:04<00:00, 141.51it/s]\n"
     ]
    },
    {
     "name": "stdout",
     "output_type": "stream",
     "text": [
      "Epoch [3/15], Loss: 0.4621, Val Loss: 0.4518, Val BER: 0.1983\n"
     ]
    },
    {
     "name": "stderr",
     "output_type": "stream",
     "text": [
      "100%|███████████████████████████████████████████| 80/80 [00:25<00:00,  3.12it/s]\n",
      "100%|████████████████████████████████████████| 640/640 [00:04<00:00, 134.16it/s]\n"
     ]
    },
    {
     "name": "stdout",
     "output_type": "stream",
     "text": [
      "Epoch [4/15], Loss: 0.4295, Val Loss: 0.4336, Val BER: 0.1953\n"
     ]
    },
    {
     "name": "stderr",
     "output_type": "stream",
     "text": [
      "100%|███████████████████████████████████████████| 80/80 [00:23<00:00,  3.41it/s]\n",
      "100%|████████████████████████████████████████| 640/640 [00:04<00:00, 146.34it/s]\n"
     ]
    },
    {
     "name": "stdout",
     "output_type": "stream",
     "text": [
      "Epoch [5/15], Loss: 0.4239, Val Loss: 0.4364, Val BER: 0.1968\n"
     ]
    },
    {
     "name": "stderr",
     "output_type": "stream",
     "text": [
      "100%|███████████████████████████████████████████| 80/80 [00:24<00:00,  3.29it/s]\n",
      "100%|████████████████████████████████████████| 640/640 [00:04<00:00, 145.45it/s]\n"
     ]
    },
    {
     "name": "stdout",
     "output_type": "stream",
     "text": [
      "Epoch [6/15], Loss: 0.4228, Val Loss: 0.4299, Val BER: 0.1945\n"
     ]
    },
    {
     "name": "stderr",
     "output_type": "stream",
     "text": [
      "100%|███████████████████████████████████████████| 80/80 [00:23<00:00,  3.38it/s]\n",
      "100%|████████████████████████████████████████| 640/640 [00:04<00:00, 144.41it/s]\n"
     ]
    },
    {
     "name": "stdout",
     "output_type": "stream",
     "text": [
      "Epoch [7/15], Loss: 0.4202, Val Loss: 0.4310, Val BER: 0.1956\n"
     ]
    },
    {
     "name": "stderr",
     "output_type": "stream",
     "text": [
      "100%|███████████████████████████████████████████| 80/80 [00:24<00:00,  3.28it/s]\n",
      "100%|████████████████████████████████████████| 640/640 [00:05<00:00, 126.88it/s]\n"
     ]
    },
    {
     "name": "stdout",
     "output_type": "stream",
     "text": [
      "Epoch [8/15], Loss: 0.4203, Val Loss: 0.4313, Val BER: 0.1935\n"
     ]
    },
    {
     "name": "stderr",
     "output_type": "stream",
     "text": [
      "100%|███████████████████████████████████████████| 80/80 [00:26<00:00,  3.03it/s]\n",
      "100%|████████████████████████████████████████| 640/640 [00:04<00:00, 135.83it/s]\n"
     ]
    },
    {
     "name": "stdout",
     "output_type": "stream",
     "text": [
      "Epoch [9/15], Loss: 0.4182, Val Loss: 0.4343, Val BER: 0.1953\n"
     ]
    },
    {
     "name": "stderr",
     "output_type": "stream",
     "text": [
      "100%|███████████████████████████████████████████| 80/80 [00:24<00:00,  3.26it/s]\n",
      "100%|████████████████████████████████████████| 640/640 [00:05<00:00, 125.53it/s]\n"
     ]
    },
    {
     "name": "stdout",
     "output_type": "stream",
     "text": [
      "Epoch [10/15], Loss: 0.4204, Val Loss: 0.4354, Val BER: 0.1980\n"
     ]
    },
    {
     "name": "stderr",
     "output_type": "stream",
     "text": [
      "100%|███████████████████████████████████████████| 80/80 [00:24<00:00,  3.24it/s]\n",
      "100%|████████████████████████████████████████| 640/640 [00:04<00:00, 140.14it/s]\n"
     ]
    },
    {
     "name": "stdout",
     "output_type": "stream",
     "text": [
      "Epoch [11/15], Loss: 0.4178, Val Loss: 0.4321, Val BER: 0.1935\n"
     ]
    },
    {
     "name": "stderr",
     "output_type": "stream",
     "text": [
      "100%|███████████████████████████████████████████| 80/80 [00:25<00:00,  3.12it/s]\n",
      "100%|████████████████████████████████████████| 640/640 [00:05<00:00, 120.97it/s]\n"
     ]
    },
    {
     "name": "stdout",
     "output_type": "stream",
     "text": [
      "Epoch [12/15], Loss: 0.4210, Val Loss: 0.4306, Val BER: 0.1963\n"
     ]
    },
    {
     "name": "stderr",
     "output_type": "stream",
     "text": [
      "100%|███████████████████████████████████████████| 80/80 [00:25<00:00,  3.10it/s]\n",
      "100%|████████████████████████████████████████| 640/640 [00:04<00:00, 128.62it/s]\n"
     ]
    },
    {
     "name": "stdout",
     "output_type": "stream",
     "text": [
      "Epoch [13/15], Loss: 0.4205, Val Loss: 0.4307, Val BER: 0.1932\n"
     ]
    },
    {
     "name": "stderr",
     "output_type": "stream",
     "text": [
      "100%|███████████████████████████████████████████| 80/80 [00:25<00:00,  3.13it/s]\n",
      "100%|████████████████████████████████████████| 640/640 [00:04<00:00, 129.19it/s]\n"
     ]
    },
    {
     "name": "stdout",
     "output_type": "stream",
     "text": [
      "Epoch [14/15], Loss: 0.4185, Val Loss: 0.4289, Val BER: 0.1939\n"
     ]
    },
    {
     "name": "stderr",
     "output_type": "stream",
     "text": [
      "100%|███████████████████████████████████████████| 80/80 [00:24<00:00,  3.24it/s]\n",
      "100%|████████████████████████████████████████| 640/640 [00:04<00:00, 129.07it/s]"
     ]
    },
    {
     "name": "stdout",
     "output_type": "stream",
     "text": [
      "Epoch [15/15], Loss: 0.4188, Val Loss: 0.4359, Val BER: 0.1956\n"
     ]
    },
    {
     "name": "stderr",
     "output_type": "stream",
     "text": [
      "\n"
     ]
    }
   ],
   "source": [
    "from tqdm.auto import tqdm\n",
    "from torch.optim.lr_scheduler import ReduceLROnPlateau\n",
    "\n",
    "# Initialize the ReduceLROnPlateau scheduler\n",
    "scheduler = ReduceLROnPlateau(optimizer, mode='min', factor=0.1, patience=10, threshold=0.01)\n",
    "\n",
    "start_epoch = 0\n",
    "num_epochs = 15\n",
    "for epoch in range(start_epoch, num_epochs):\n",
    "    model.train()  # Set the model to training mode\n",
    "    total_loss = 0.0\n",
    "\n",
    "    for data_batch in tqdm(train_loader):\n",
    "        batch = {k: v.to(device) for k, v in data_batch.items()}\n",
    "        samples = batch['samples']\n",
    "        labels = batch['labels']\n",
    "        optimizer.zero_grad()  # Zero the gradients\n",
    "        outputs = model(samples)  # forward pass\n",
    "        loss = loss_fn(outputs, labels)\n",
    "        loss.backward()  # backward pass\n",
    "        optimizer.step()  # update the weights\n",
    "        total_loss += loss.item()  # accumulate the loss\n",
    "\n",
    "    # Print average loss for the epoch\n",
    "    average_loss = total_loss / len(train_loader)\n",
    "\n",
    "    # Validation phase\n",
    "    model.eval()  # Set the model to evaluation mode\n",
    "    total_val_loss = 0.0\n",
    "    BER_batch = []\n",
    "    with torch.no_grad():\n",
    "        for data_batch in tqdm(val_loader):\n",
    "            batch = {k: v.to(device) for k, v in data_batch.items()}\n",
    "            samples = batch['samples']\n",
    "            labels = batch['labels']\n",
    "            val_outputs = model(samples)\n",
    "            val_loss = loss_fn(val_outputs, labels)\n",
    "            total_val_loss += val_loss.item()\n",
    "\n",
    "            binary_predictions = torch.round(val_outputs)\n",
    "            error_count = torch.sum(binary_predictions != labels).float()\n",
    "            error_rate = error_count / len(labels.flatten())\n",
    "            BER_batch.append(error_rate.item())\n",
    "\n",
    "    \n",
    "    average_val_loss = total_val_loss / len(val_loader)\n",
    "    BER_batch_mean = np.mean(BER_batch)\n",
    "    if epoch%5==0:\n",
    "        scheduler.step(average_val_loss)\n",
    "    train_losses.append(average_loss)\n",
    "    val_losses.append(val_loss.item())\n",
    "    BER_batch_mean=np.mean(BER_batch)\n",
    "    val_BERs.append(BER_batch_mean)#(BER.item())\n",
    "\n",
    "    # Logging\n",
    "    print(f\"Epoch [{epoch + 1}/{num_epochs}], Loss: {average_loss:.4f}, Val Loss: {average_val_loss:.4f}, Val BER: {BER_batch_mean:.4f}\")\n"
   ]
  },
  {
   "cell_type": "code",
   "execution_count": 57,
   "metadata": {},
   "outputs": [],
   "source": [
    "# Save the final trained model\n",
    "checkpoint = {\n",
    "    'epoch': epoch,\n",
    "    'model_state_dict': model.state_dict(),\n",
    "}\n",
    "modelsave_path = os.path.join(trainoutput, 'simple_model.pth')\n",
    "torch.save(checkpoint, modelsave_path)"
   ]
  },
  {
   "cell_type": "code",
   "execution_count": 58,
   "metadata": {},
   "outputs": [
    {
     "data": {
      "image/png": "[encoded data removed]",
      "text/plain": [
       "<Figure size 700x300 with 1 Axes>"
      ]
     },
     "metadata": {},
     "output_type": "display_data"
    }
   ],
   "source": [
    "# Plot Training Loss and Validation Loss\n",
    "plt.figure(figsize=(7, 3))\n",
    "plt.plot(train_losses, label='Training Loss')\n",
    "plt.plot(val_losses, label='Validation Loss')\n",
    "plt.xlabel('Epochs')\n",
    "plt.ylabel('Loss')\n",
    "plt.legend()\n",
    "plt.title('Training and Validation Loss Over Epochs')\n",
    "plt.grid(True)"
   ]
  },
  {
   "cell_type": "code",
   "execution_count": 59,
   "metadata": {},
   "outputs": [
    {
     "data": {
      "image/png": "[encoded data removed]",
      "text/plain": [
       "<Figure size 700x300 with 1 Axes>"
      ]
     },
     "metadata": {},
     "output_type": "display_data"
    }
   ],
   "source": [
    "# Plot Validation BER\n",
    "plt.figure(figsize=(7, 3))\n",
    "plt.plot(val_BERs, label='Validation BER')\n",
    "plt.xlabel('Epochs')\n",
    "plt.ylabel('BER')\n",
    "plt.legend()\n",
    "plt.title('Bit Error Rate (BER) on validation set')\n",
    "plt.grid(True)"
   ]
  },
  {
   "cell_type": "code",
   "execution_count": 60,
   "metadata": {},
   "outputs": [],
   "source": [
    "class EnhancedSimpleModel4(nn.Module):\n",
    "\n",
    "    def __init__(self, num_bits_per_symbol, H=64, W=512):\n",
    "        super(EnhancedSimpleModel4, self).__init__()\n",
    "        scale = 8\n",
    "        self.linear1 = nn.Linear(in_features=2, out_features=scale * num_bits_per_symbol)\n",
    "        self.linear2 = nn.Linear(in_features=scale * num_bits_per_symbol, out_features=scale * num_bits_per_symbol * 2)\n",
    "        self.linear3 = nn.Linear(in_features=scale * num_bits_per_symbol * 2, out_features=scale * num_bits_per_symbol * 2)\n",
    "        self.linear4 = nn.Linear(in_features=scale * num_bits_per_symbol * 2, out_features=scale * num_bits_per_symbol)\n",
    "        self.linear5 = nn.Linear(in_features=scale * num_bits_per_symbol, out_features=num_bits_per_symbol)\n",
    "        self.activation = nn.PReLU()\n",
    "\n",
    "\n",
    "    def forward(self, inputs):\n",
    "        y = inputs\n",
    "        z = torch.stack([y.real, y.imag], dim=0)\n",
    "        z = z.permute(1, 2, 3, 0)\n",
    "        z = self.linear1(z)\n",
    "        z = self.activation(z)\n",
    "        z = self.linear2(z)\n",
    "        z = self.activation(z)\n",
    "        z = self.linear3(z)\n",
    "        z = self.activation(z)\n",
    "        z = self.linear4(z)\n",
    "        z = self.activation(z)\n",
    "        z = self.linear5(z)\n",
    "        z = nn.Sigmoid()(z)\n",
    "        z = z.flatten(-2, -1)\n",
    "        return z"
   ]
  },
  {
   "cell_type": "code",
   "execution_count": 61,
   "metadata": {},
   "outputs": [],
   "source": [
    "model = EnhancedSimpleModel4(num_bits_per_symbol=NUM_BITS_PER_SYMBOL, H=Frame_SIZE, W=Blocklength)\n",
    "output = model(onebatch['samples']) #[32, 64, 512] =>[32, 64, 1024]\n",
    "# Setup loss and optimizer pip install ipywidgets\n",
    "loss_fn = nn.BCELoss() #nn.BCEWithLogitsLoss()\n",
    "optimizer = torch.optim.Adam(model.parameters(), lr=0.1)\n"
   ]
  },
  {
   "cell_type": "code",
   "execution_count": 62,
   "metadata": {},
   "outputs": [],
   "source": [
    "train_losses = []\n",
    "val_losses = []\n",
    "val_BERs = []"
   ]
  },
  {
   "cell_type": "code",
   "execution_count": 63,
   "metadata": {},
   "outputs": [],
   "source": [
    "model=model.to(device)"
   ]
  },
  {
   "cell_type": "code",
   "execution_count": 64,
   "metadata": {},
   "outputs": [
    {
     "name": "stderr",
     "output_type": "stream",
     "text": [
      "100%|███████████████████████████████████████████| 80/80 [00:29<00:00,  2.71it/s]\n",
      "100%|████████████████████████████████████████| 640/640 [00:05<00:00, 121.41it/s]\n"
     ]
    },
    {
     "name": "stdout",
     "output_type": "stream",
     "text": [
      "Epoch [1/15], Loss: 0.5939, Val Loss: 0.4549, Val BER: 0.2010\n"
     ]
    },
    {
     "name": "stderr",
     "output_type": "stream",
     "text": [
      "100%|███████████████████████████████████████████| 80/80 [00:27<00:00,  2.90it/s]\n",
      "100%|████████████████████████████████████████| 640/640 [00:04<00:00, 129.01it/s]\n"
     ]
    },
    {
     "name": "stdout",
     "output_type": "stream",
     "text": [
      "Epoch [2/15], Loss: 0.4316, Val Loss: 0.4331, Val BER: 0.1952\n"
     ]
    },
    {
     "name": "stderr",
     "output_type": "stream",
     "text": [
      "100%|███████████████████████████████████████████| 80/80 [00:29<00:00,  2.69it/s]\n",
      "100%|████████████████████████████████████████| 640/640 [00:05<00:00, 123.95it/s]\n"
     ]
    },
    {
     "name": "stdout",
     "output_type": "stream",
     "text": [
      "Epoch [3/15], Loss: 0.4228, Val Loss: 0.4371, Val BER: 0.1942\n"
     ]
    },
    {
     "name": "stderr",
     "output_type": "stream",
     "text": [
      "100%|███████████████████████████████████████████| 80/80 [00:30<00:00,  2.65it/s]\n",
      "100%|████████████████████████████████████████| 640/640 [00:05<00:00, 123.53it/s]\n"
     ]
    },
    {
     "name": "stdout",
     "output_type": "stream",
     "text": [
      "Epoch [4/15], Loss: 0.4175, Val Loss: 0.4266, Val BER: 0.1918\n"
     ]
    },
    {
     "name": "stderr",
     "output_type": "stream",
     "text": [
      "100%|███████████████████████████████████████████| 80/80 [00:29<00:00,  2.71it/s]\n",
      "100%|████████████████████████████████████████| 640/640 [00:05<00:00, 115.04it/s]\n"
     ]
    },
    {
     "name": "stdout",
     "output_type": "stream",
     "text": [
      "Epoch [5/15], Loss: 0.4151, Val Loss: 0.4253, Val BER: 0.1933\n"
     ]
    },
    {
     "name": "stderr",
     "output_type": "stream",
     "text": [
      "100%|███████████████████████████████████████████| 80/80 [00:31<00:00,  2.57it/s]\n",
      "100%|████████████████████████████████████████| 640/640 [00:05<00:00, 120.55it/s]\n"
     ]
    },
    {
     "name": "stdout",
     "output_type": "stream",
     "text": [
      "Epoch [6/15], Loss: 10.3061, Val Loss: 49.9916, Val BER: 0.4999\n"
     ]
    },
    {
     "name": "stderr",
     "output_type": "stream",
     "text": [
      "100%|███████████████████████████████████████████| 80/80 [00:28<00:00,  2.83it/s]\n",
      "100%|████████████████████████████████████████| 640/640 [00:05<00:00, 118.43it/s]\n"
     ]
    },
    {
     "name": "stdout",
     "output_type": "stream",
     "text": [
      "Epoch [7/15], Loss: 49.9967, Val Loss: 49.9936, Val BER: 0.4999\n"
     ]
    },
    {
     "name": "stderr",
     "output_type": "stream",
     "text": [
      "100%|███████████████████████████████████████████| 80/80 [00:27<00:00,  2.94it/s]\n",
      "100%|████████████████████████████████████████| 640/640 [00:04<00:00, 131.49it/s]\n"
     ]
    },
    {
     "name": "stdout",
     "output_type": "stream",
     "text": [
      "Epoch [8/15], Loss: 49.9978, Val Loss: 49.9984, Val BER: 0.5000\n"
     ]
    },
    {
     "name": "stderr",
     "output_type": "stream",
     "text": [
      "100%|███████████████████████████████████████████| 80/80 [00:25<00:00,  3.08it/s]\n",
      "100%|████████████████████████████████████████| 640/640 [00:04<00:00, 135.87it/s]\n"
     ]
    },
    {
     "name": "stdout",
     "output_type": "stream",
     "text": [
      "Epoch [9/15], Loss: 49.9937, Val Loss: 49.9947, Val BER: 0.4999\n"
     ]
    },
    {
     "name": "stderr",
     "output_type": "stream",
     "text": [
      "100%|███████████████████████████████████████████| 80/80 [00:26<00:00,  3.07it/s]\n",
      "100%|████████████████████████████████████████| 640/640 [00:04<00:00, 137.28it/s]\n"
     ]
    },
    {
     "name": "stdout",
     "output_type": "stream",
     "text": [
      "Epoch [10/15], Loss: 49.9980, Val Loss: 50.0000, Val BER: 0.5000\n"
     ]
    },
    {
     "name": "stderr",
     "output_type": "stream",
     "text": [
      "100%|███████████████████████████████████████████| 80/80 [00:25<00:00,  3.12it/s]\n",
      "100%|████████████████████████████████████████| 640/640 [00:04<00:00, 134.60it/s]\n"
     ]
    },
    {
     "name": "stdout",
     "output_type": "stream",
     "text": [
      "Epoch [11/15], Loss: 50.0026, Val Loss: 50.0234, Val BER: 0.5002\n"
     ]
    },
    {
     "name": "stderr",
     "output_type": "stream",
     "text": [
      "100%|███████████████████████████████████████████| 80/80 [00:25<00:00,  3.09it/s]\n",
      "100%|████████████████████████████████████████| 640/640 [00:04<00:00, 135.49it/s]\n"
     ]
    },
    {
     "name": "stdout",
     "output_type": "stream",
     "text": [
      "Epoch [12/15], Loss: 50.0001, Val Loss: 50.0054, Val BER: 0.5001\n"
     ]
    },
    {
     "name": "stderr",
     "output_type": "stream",
     "text": [
      "100%|███████████████████████████████████████████| 80/80 [00:25<00:00,  3.10it/s]\n",
      "100%|████████████████████████████████████████| 640/640 [00:04<00:00, 133.36it/s]\n"
     ]
    },
    {
     "name": "stdout",
     "output_type": "stream",
     "text": [
      "Epoch [13/15], Loss: 50.0073, Val Loss: 49.9905, Val BER: 0.4999\n"
     ]
    },
    {
     "name": "stderr",
     "output_type": "stream",
     "text": [
      "100%|███████████████████████████████████████████| 80/80 [00:27<00:00,  2.91it/s]\n",
      "100%|████████████████████████████████████████| 640/640 [00:04<00:00, 130.27it/s]\n"
     ]
    },
    {
     "name": "stdout",
     "output_type": "stream",
     "text": [
      "Epoch [14/15], Loss: 50.0030, Val Loss: 50.0138, Val BER: 0.5001\n"
     ]
    },
    {
     "name": "stderr",
     "output_type": "stream",
     "text": [
      "100%|███████████████████████████████████████████| 80/80 [00:26<00:00,  3.03it/s]\n",
      "100%|████████████████████████████████████████| 640/640 [00:04<00:00, 138.07it/s]"
     ]
    },
    {
     "name": "stdout",
     "output_type": "stream",
     "text": [
      "Epoch [15/15], Loss: 49.9975, Val Loss: 49.9983, Val BER: 0.5000\n"
     ]
    },
    {
     "name": "stderr",
     "output_type": "stream",
     "text": [
      "\n"
     ]
    }
   ],
   "source": [
    "from tqdm.auto import tqdm\n",
    "from torch.optim.lr_scheduler import ReduceLROnPlateau\n",
    "\n",
    "# Initialize the ReduceLROnPlateau scheduler\n",
    "scheduler = ReduceLROnPlateau(optimizer, mode='min', factor=0.1, patience=10, threshold=0.01)\n",
    "\n",
    "start_epoch = 0\n",
    "num_epochs = 15\n",
    "for epoch in range(start_epoch, num_epochs):\n",
    "    model.train()  # Set the model to training mode\n",
    "    total_loss = 0.0\n",
    "\n",
    "    for data_batch in tqdm(train_loader):\n",
    "        batch = {k: v.to(device) for k, v in data_batch.items()}\n",
    "        samples = batch['samples']\n",
    "        labels = batch['labels']\n",
    "        optimizer.zero_grad()  # Zero the gradients\n",
    "        outputs = model(samples)  # forward pass\n",
    "        loss = loss_fn(outputs, labels)\n",
    "        loss.backward()  # backward pass\n",
    "        optimizer.step()  # update the weights\n",
    "        total_loss += loss.item()  # accumulate the loss\n",
    "\n",
    "    # Print average loss for the epoch\n",
    "    average_loss = total_loss / len(train_loader)\n",
    "\n",
    "    # Validation phase\n",
    "    model.eval()  # Set the model to evaluation mode\n",
    "    total_val_loss = 0.0\n",
    "    BER_batch = []\n",
    "    with torch.no_grad():\n",
    "        for data_batch in tqdm(val_loader):\n",
    "            batch = {k: v.to(device) for k, v in data_batch.items()}\n",
    "            samples = batch['samples']\n",
    "            labels = batch['labels']\n",
    "            val_outputs = model(samples)\n",
    "            val_loss = loss_fn(val_outputs, labels)\n",
    "            total_val_loss += val_loss.item()\n",
    "\n",
    "            binary_predictions = torch.round(val_outputs)\n",
    "            error_count = torch.sum(binary_predictions != labels).float()\n",
    "            error_rate = error_count / len(labels.flatten())\n",
    "            BER_batch.append(error_rate.item())\n",
    "\n",
    "    \n",
    "    average_val_loss = total_val_loss / len(val_loader)\n",
    "    BER_batch_mean = np.mean(BER_batch)\n",
    "    if epoch%5==0:\n",
    "        scheduler.step(average_val_loss)\n",
    "    train_losses.append(average_loss)\n",
    "    val_losses.append(val_loss.item())\n",
    "    BER_batch_mean=np.mean(BER_batch)\n",
    "    val_BERs.append(BER_batch_mean)#(BER.item())\n",
    "\n",
    "    # Logging\n",
    "    print(f\"Epoch [{epoch + 1}/{num_epochs}], Loss: {average_loss:.4f}, Val Loss: {average_val_loss:.4f}, Val BER: {BER_batch_mean:.4f}\")\n"
   ]
  },
  {
   "cell_type": "code",
   "execution_count": 65,
   "metadata": {},
   "outputs": [],
   "source": [
    "# Save the final trained model\n",
    "checkpoint = {\n",
    "    'epoch': epoch,\n",
    "    'model_state_dict': model.state_dict(),\n",
    "}\n",
    "modelsave_path = os.path.join(trainoutput, 'simple_model.pth')\n",
    "torch.save(checkpoint, modelsave_path)"
   ]
  },
  {
   "cell_type": "code",
   "execution_count": 66,
   "metadata": {},
   "outputs": [
    {
     "data": {
      "image/png": "[encoded data removed]",
      "text/plain": [
       "<Figure size 700x300 with 1 Axes>"
      ]
     },
     "metadata": {},
     "output_type": "display_data"
    }
   ],
   "source": [
    "# Plot Training Loss and Validation Loss\n",
    "plt.figure(figsize=(7, 3))\n",
    "plt.plot(train_losses, label='Training Loss')\n",
    "plt.plot(val_losses, label='Validation Loss')\n",
    "plt.xlabel('Epochs')\n",
    "plt.ylabel('Loss')\n",
    "plt.legend()\n",
    "plt.title('Training and Validation Loss Over Epochs')\n",
    "plt.grid(True)"
   ]
  },
  {
   "cell_type": "code",
   "execution_count": 67,
   "metadata": {},
   "outputs": [
    {
     "data": {
      "image/png": "[encoded data removed]",
      "text/plain": [
       "<Figure size 700x300 with 1 Axes>"
      ]
     },
     "metadata": {},
     "output_type": "display_data"
    }
   ],
   "source": [
    "# Plot Validation BER\n",
    "plt.figure(figsize=(7, 3))\n",
    "plt.plot(val_BERs, label='Validation BER')\n",
    "plt.xlabel('Epochs')\n",
    "plt.ylabel('BER')\n",
    "plt.legend()\n",
    "plt.title('Bit Error Rate (BER) on validation set')\n",
    "plt.grid(True)"
   ]
  },
  {
   "cell_type": "markdown",
   "metadata": {},
   "source": [
    "Doesnt look like increasing the layers or changing activation function or increasing the epochs does anything. Increasing the neurons now."
   ]
  },
  {
   "cell_type": "code",
   "execution_count": 68,
   "metadata": {},
   "outputs": [],
   "source": [
    "class EnhancedSimpleModel5(nn.Module):\n",
    "\n",
    "    def __init__(self, num_bits_per_symbol, H=64, W=512):\n",
    "        super(EnhancedSimpleModel5, self).__init__()\n",
    "        scale = 8\n",
    "        self.linear1 = nn.Linear(in_features=2, out_features=scale * num_bits_per_symbol)\n",
    "        self.linear2 = nn.Linear(in_features=scale * num_bits_per_symbol, out_features=scale * num_bits_per_symbol * 4)\n",
    "        self.linear3 = nn.Linear(in_features=scale * num_bits_per_symbol * 4, out_features=scale * num_bits_per_symbol)\n",
    "        self.linear4 = nn.Linear(in_features=scale * num_bits_per_symbol, out_features=num_bits_per_symbol)\n",
    "        self.activation = nn.PReLU()\n",
    "\n",
    "\n",
    "    def forward(self, inputs):\n",
    "        y = inputs\n",
    "        z = torch.stack([y.real, y.imag], dim=0)\n",
    "        z = z.permute(1, 2, 3, 0)\n",
    "        z = self.linear1(z)\n",
    "        z = self.activation(z)\n",
    "        z = self.linear2(z)\n",
    "        z = self.activation(z)\n",
    "        z = self.linear3(z)\n",
    "        z = self.activation(z)\n",
    "        \n",
    "        z = self.linear4(z)\n",
    "        z = nn.Sigmoid()(z)\n",
    "        z = z.flatten(-2, -1)\n",
    "        return z"
   ]
  },
  {
   "cell_type": "code",
   "execution_count": 69,
   "metadata": {},
   "outputs": [],
   "source": [
    "model = EnhancedSimpleModel5(num_bits_per_symbol=NUM_BITS_PER_SYMBOL, H=Frame_SIZE, W=Blocklength)\n",
    "output = model(onebatch['samples']) #[32, 64, 512] =>[32, 64, 1024]\n",
    "# Setup loss and optimizer pip install ipywidgets\n",
    "loss_fn = nn.BCELoss() #nn.BCEWithLogitsLoss()\n",
    "optimizer = torch.optim.Adam(model.parameters(), lr=0.1)\n"
   ]
  },
  {
   "cell_type": "code",
   "execution_count": 70,
   "metadata": {},
   "outputs": [],
   "source": [
    "train_losses = []\n",
    "val_losses = []\n",
    "val_BERs = []"
   ]
  },
  {
   "cell_type": "code",
   "execution_count": 71,
   "metadata": {},
   "outputs": [],
   "source": [
    "model=model.to(device)"
   ]
  },
  {
   "cell_type": "code",
   "execution_count": 72,
   "metadata": {},
   "outputs": [
    {
     "name": "stderr",
     "output_type": "stream",
     "text": [
      "100%|███████████████████████████████████████████| 80/80 [01:17<00:00,  1.04it/s]\n",
      "100%|████████████████████████████████████████| 640/640 [00:04<00:00, 132.09it/s]\n"
     ]
    },
    {
     "name": "stdout",
     "output_type": "stream",
     "text": [
      "Epoch [1/10], Loss: 0.5055, Val Loss: 0.4411, Val BER: 0.2004\n"
     ]
    },
    {
     "name": "stderr",
     "output_type": "stream",
     "text": [
      "100%|███████████████████████████████████████████| 80/80 [01:02<00:00,  1.29it/s]\n",
      "100%|████████████████████████████████████████| 640/640 [00:04<00:00, 130.11it/s]\n"
     ]
    },
    {
     "name": "stdout",
     "output_type": "stream",
     "text": [
      "Epoch [2/10], Loss: 0.4221, Val Loss: 0.4288, Val BER: 0.1925\n"
     ]
    },
    {
     "name": "stderr",
     "output_type": "stream",
     "text": [
      "100%|███████████████████████████████████████████| 80/80 [01:18<00:00,  1.01it/s]\n",
      "100%|████████████████████████████████████████| 640/640 [00:04<00:00, 135.77it/s]\n"
     ]
    },
    {
     "name": "stdout",
     "output_type": "stream",
     "text": [
      "Epoch [3/10], Loss: 0.4191, Val Loss: 0.4367, Val BER: 0.1959\n"
     ]
    },
    {
     "name": "stderr",
     "output_type": "stream",
     "text": [
      "100%|███████████████████████████████████████████| 80/80 [01:15<00:00,  1.06it/s]\n",
      "100%|████████████████████████████████████████| 640/640 [00:05<00:00, 127.92it/s]\n"
     ]
    },
    {
     "name": "stdout",
     "output_type": "stream",
     "text": [
      "Epoch [4/10], Loss: 0.4177, Val Loss: 0.4262, Val BER: 0.1942\n"
     ]
    },
    {
     "name": "stderr",
     "output_type": "stream",
     "text": [
      "100%|███████████████████████████████████████████| 80/80 [00:35<00:00,  2.27it/s]\n",
      "100%|████████████████████████████████████████| 640/640 [00:04<00:00, 133.74it/s]\n"
     ]
    },
    {
     "name": "stdout",
     "output_type": "stream",
     "text": [
      "Epoch [5/10], Loss: 0.4265, Val Loss: 14.6523, Val BER: 0.4915\n"
     ]
    },
    {
     "name": "stderr",
     "output_type": "stream",
     "text": [
      "100%|███████████████████████████████████████████| 80/80 [01:12<00:00,  1.11it/s]\n",
      "100%|█████████████████████████████████████████| 640/640 [00:06<00:00, 95.67it/s]\n"
     ]
    },
    {
     "name": "stdout",
     "output_type": "stream",
     "text": [
      "Epoch [6/10], Loss: 2.8721, Val Loss: 0.6037, Val BER: 0.3249\n"
     ]
    },
    {
     "name": "stderr",
     "output_type": "stream",
     "text": [
      "100%|███████████████████████████████████████████| 80/80 [00:41<00:00,  1.92it/s]\n",
      "100%|████████████████████████████████████████| 640/640 [00:04<00:00, 134.01it/s]\n"
     ]
    },
    {
     "name": "stdout",
     "output_type": "stream",
     "text": [
      "Epoch [7/10], Loss: 0.4898, Val Loss: 0.4686, Val BER: 0.2006\n"
     ]
    },
    {
     "name": "stderr",
     "output_type": "stream",
     "text": [
      "100%|███████████████████████████████████████████| 80/80 [00:31<00:00,  2.50it/s]\n",
      "100%|████████████████████████████████████████| 640/640 [00:05<00:00, 116.84it/s]\n"
     ]
    },
    {
     "name": "stdout",
     "output_type": "stream",
     "text": [
      "Epoch [8/10], Loss: 0.4385, Val Loss: 0.4754, Val BER: 0.1995\n"
     ]
    },
    {
     "name": "stderr",
     "output_type": "stream",
     "text": [
      "100%|███████████████████████████████████████████| 80/80 [00:32<00:00,  2.44it/s]\n",
      "100%|████████████████████████████████████████| 640/640 [00:05<00:00, 111.53it/s]\n"
     ]
    },
    {
     "name": "stdout",
     "output_type": "stream",
     "text": [
      "Epoch [9/10], Loss: 0.4264, Val Loss: 0.4342, Val BER: 0.1939\n"
     ]
    },
    {
     "name": "stderr",
     "output_type": "stream",
     "text": [
      "100%|███████████████████████████████████████████| 80/80 [00:41<00:00,  1.92it/s]\n",
      "100%|████████████████████████████████████████| 640/640 [00:05<00:00, 111.51it/s]"
     ]
    },
    {
     "name": "stdout",
     "output_type": "stream",
     "text": [
      "Epoch [10/10], Loss: 0.4286, Val Loss: 0.4803, Val BER: 0.1968\n"
     ]
    },
    {
     "name": "stderr",
     "output_type": "stream",
     "text": [
      "\n"
     ]
    }
   ],
   "source": [
    "from tqdm.auto import tqdm\n",
    "from torch.optim.lr_scheduler import ReduceLROnPlateau\n",
    "\n",
    "# Initialize the ReduceLROnPlateau scheduler\n",
    "scheduler = ReduceLROnPlateau(optimizer, mode='min', factor=0.1, patience=10, threshold=0.01)\n",
    "\n",
    "start_epoch = 0\n",
    "num_epochs = 10\n",
    "for epoch in range(start_epoch, num_epochs):\n",
    "    model.train()  # Set the model to training mode\n",
    "    total_loss = 0.0\n",
    "\n",
    "    for data_batch in tqdm(train_loader):\n",
    "        batch = {k: v.to(device) for k, v in data_batch.items()}\n",
    "        samples = batch['samples']\n",
    "        labels = batch['labels']\n",
    "        optimizer.zero_grad()  # Zero the gradients\n",
    "        outputs = model(samples)  # forward pass\n",
    "        loss = loss_fn(outputs, labels)\n",
    "        loss.backward()  # backward pass\n",
    "        optimizer.step()  # update the weights\n",
    "        total_loss += loss.item()  # accumulate the loss\n",
    "\n",
    "    # Print average loss for the epoch\n",
    "    average_loss = total_loss / len(train_loader)\n",
    "\n",
    "    # Validation phase\n",
    "    model.eval()  # Set the model to evaluation mode\n",
    "    total_val_loss = 0.0\n",
    "    BER_batch = []\n",
    "    with torch.no_grad():\n",
    "        for data_batch in tqdm(val_loader):\n",
    "            batch = {k: v.to(device) for k, v in data_batch.items()}\n",
    "            samples = batch['samples']\n",
    "            labels = batch['labels']\n",
    "            val_outputs = model(samples)\n",
    "            val_loss = loss_fn(val_outputs, labels)\n",
    "            total_val_loss += val_loss.item()\n",
    "\n",
    "            binary_predictions = torch.round(val_outputs)\n",
    "            error_count = torch.sum(binary_predictions != labels).float()\n",
    "            error_rate = error_count / len(labels.flatten())\n",
    "            BER_batch.append(error_rate.item())\n",
    "\n",
    "    \n",
    "    average_val_loss = total_val_loss / len(val_loader)\n",
    "    BER_batch_mean = np.mean(BER_batch)\n",
    "    if epoch%5==0:\n",
    "        scheduler.step(average_val_loss)\n",
    "    train_losses.append(average_loss)\n",
    "    val_losses.append(val_loss.item())\n",
    "    BER_batch_mean=np.mean(BER_batch)\n",
    "    val_BERs.append(BER_batch_mean)#(BER.item())\n",
    "\n",
    "    # Logging\n",
    "    print(f\"Epoch [{epoch + 1}/{num_epochs}], Loss: {average_loss:.4f}, Val Loss: {average_val_loss:.4f}, Val BER: {BER_batch_mean:.4f}\")\n"
   ]
  },
  {
   "cell_type": "markdown",
   "metadata": {},
   "source": [
    "Add batchnormalization and dropouts"
   ]
  },
  {
   "cell_type": "code",
   "execution_count": 73,
   "metadata": {},
   "outputs": [],
   "source": [
    "import torch.nn as nn\n",
    "import torch\n",
    "\n",
    "class EnhancedSimpleModel6(nn.Module):\n",
    "\n",
    "    def __init__(self, num_bits_per_symbol, H=64, W=512, dropout_rate=0.5):\n",
    "        super(EnhancedSimpleModel6, self).__init__()\n",
    "        scale = 8\n",
    "        self.linear1 = nn.Linear(in_features=2, out_features=scale * num_bits_per_symbol)\n",
    "        self.bn1 = nn.BatchNorm2d(scale * num_bits_per_symbol)  \n",
    "        self.dropout1 = nn.Dropout(dropout_rate) \n",
    "        \n",
    "        self.linear2 = nn.Linear(in_features=scale * num_bits_per_symbol, out_features=scale * num_bits_per_symbol * 4)\n",
    "        self.bn2 = nn.BatchNorm2d(scale * num_bits_per_symbol * 4)  \n",
    "        self.dropout2 = nn.Dropout(dropout_rate) \n",
    "        \n",
    "        self.linear3 = nn.Linear(in_features=scale * num_bits_per_symbol * 4, out_features=scale * num_bits_per_symbol)\n",
    "        self.bn3 = nn.BatchNorm2d(scale * num_bits_per_symbol)  \n",
    "        self.dropout3 = nn.Dropout(dropout_rate)  \n",
    "        \n",
    "        self.linear4 = nn.Linear(in_features=scale * num_bits_per_symbol, out_features=num_bits_per_symbol)\n",
    "        self.activation = nn.PReLU()\n",
    "\n",
    "    def forward(self, inputs):\n",
    "        y = inputs\n",
    "        z = torch.stack([y.real, y.imag], dim=0)\n",
    "        z = z.permute(1, 2, 3, 0)  \n",
    "        \n",
    "        z = self.linear1(z)\n",
    "        z = z.permute(0, 3, 1, 2)  \n",
    "        z = self.bn1(z)  \n",
    "        z = z.permute(0, 2, 3, 1)\n",
    "        z = self.activation(z)\n",
    "        z = self.dropout1(z)\n",
    "        \n",
    "        z = self.linear2(z)\n",
    "        z = z.permute(0, 3, 1, 2) \n",
    "        z = self.bn2(z) \n",
    "        z = z.permute(0, 2, 3, 1) \n",
    "        z = self.activation(z)\n",
    "        z = self.dropout2(z)\n",
    "        \n",
    "        z = self.linear3(z)\n",
    "        z = z.permute(0, 3, 1, 2)  \n",
    "        z = self.bn3(z)  \n",
    "        z = z.permute(0, 2, 3, 1) \n",
    "        z = self.activation(z)\n",
    "        z = self.dropout3(z)\n",
    "        \n",
    "        z = self.linear4(z)\n",
    "        z = nn.Sigmoid()(z)\n",
    "        z = z.flatten(-2, -1) \n",
    "        return z\n"
   ]
  },
  {
   "cell_type": "code",
   "execution_count": 74,
   "metadata": {},
   "outputs": [],
   "source": [
    "model = EnhancedSimpleModel6(num_bits_per_symbol=NUM_BITS_PER_SYMBOL, H=Frame_SIZE, W=Blocklength)\n",
    "output = model(onebatch['samples']) #[32, 64, 512] =>[32, 64, 1024]\n",
    "# Setup loss and optimizer pip install ipywidgets\n",
    "loss_fn = nn.BCELoss() #nn.BCEWithLogitsLoss()\n",
    "optimizer = torch.optim.Adam(model.parameters(), lr=0.1)\n"
   ]
  },
  {
   "cell_type": "code",
   "execution_count": 75,
   "metadata": {},
   "outputs": [],
   "source": [
    "train_losses = []\n",
    "val_losses = []\n",
    "val_BERs = []"
   ]
  },
  {
   "cell_type": "code",
   "execution_count": 76,
   "metadata": {},
   "outputs": [],
   "source": [
    "model=model.to(device)"
   ]
  },
  {
   "cell_type": "code",
   "execution_count": 77,
   "metadata": {},
   "outputs": [
    {
     "name": "stderr",
     "output_type": "stream",
     "text": [
      "100%|███████████████████████████████████████████| 80/80 [01:34<00:00,  1.18s/it]\n",
      "100%|█████████████████████████████████████████| 640/640 [00:06<00:00, 99.38it/s]\n"
     ]
    },
    {
     "name": "stdout",
     "output_type": "stream",
     "text": [
      "Epoch [1/7], Loss: 1.3260, Val Loss: 49.9973, Val BER: 0.5000\n"
     ]
    },
    {
     "name": "stderr",
     "output_type": "stream",
     "text": [
      "100%|███████████████████████████████████████████| 80/80 [01:04<00:00,  1.23it/s]\n",
      "100%|████████████████████████████████████████| 640/640 [00:05<00:00, 116.29it/s]\n"
     ]
    },
    {
     "name": "stdout",
     "output_type": "stream",
     "text": [
      "Epoch [2/7], Loss: 5.0338, Val Loss: 28.3912, Val BER: 0.5118\n"
     ]
    },
    {
     "name": "stderr",
     "output_type": "stream",
     "text": [
      "100%|███████████████████████████████████████████| 80/80 [01:11<00:00,  1.11it/s]\n",
      "100%|████████████████████████████████████████| 640/640 [00:05<00:00, 121.34it/s]\n"
     ]
    },
    {
     "name": "stdout",
     "output_type": "stream",
     "text": [
      "Epoch [3/7], Loss: 9.0915, Val Loss: 3.4995, Val BER: 0.4973\n"
     ]
    },
    {
     "name": "stderr",
     "output_type": "stream",
     "text": [
      "100%|███████████████████████████████████████████| 80/80 [01:10<00:00,  1.13it/s]\n",
      "100%|████████████████████████████████████████| 640/640 [00:06<00:00, 105.48it/s]\n"
     ]
    },
    {
     "name": "stdout",
     "output_type": "stream",
     "text": [
      "Epoch [4/7], Loss: 10.1097, Val Loss: 2.5954, Val BER: 0.4997\n"
     ]
    },
    {
     "name": "stderr",
     "output_type": "stream",
     "text": [
      "100%|███████████████████████████████████████████| 80/80 [01:18<00:00,  1.01it/s]\n",
      "100%|█████████████████████████████████████████| 640/640 [00:06<00:00, 95.61it/s]\n"
     ]
    },
    {
     "name": "stdout",
     "output_type": "stream",
     "text": [
      "Epoch [5/7], Loss: 9.7412, Val Loss: 3.7142, Val BER: 0.5003\n"
     ]
    },
    {
     "name": "stderr",
     "output_type": "stream",
     "text": [
      "100%|███████████████████████████████████████████| 80/80 [01:40<00:00,  1.26s/it]\n",
      "100%|█████████████████████████████████████████| 640/640 [00:07<00:00, 82.90it/s]\n"
     ]
    },
    {
     "name": "stdout",
     "output_type": "stream",
     "text": [
      "Epoch [6/7], Loss: 8.1527, Val Loss: 2.3835, Val BER: 0.5002\n"
     ]
    },
    {
     "name": "stderr",
     "output_type": "stream",
     "text": [
      "100%|███████████████████████████████████████████| 80/80 [01:24<00:00,  1.06s/it]\n",
      "100%|█████████████████████████████████████████| 640/640 [00:06<00:00, 99.63it/s]"
     ]
    },
    {
     "name": "stdout",
     "output_type": "stream",
     "text": [
      "Epoch [7/7], Loss: 4.4624, Val Loss: 1.6023, Val BER: 0.5053\n"
     ]
    },
    {
     "name": "stderr",
     "output_type": "stream",
     "text": [
      "\n"
     ]
    }
   ],
   "source": [
    "from tqdm.auto import tqdm\n",
    "from torch.optim.lr_scheduler import ReduceLROnPlateau\n",
    "\n",
    "# Initialize the ReduceLROnPlateau scheduler\n",
    "scheduler = ReduceLROnPlateau(optimizer, mode='min', factor=0.1, patience=10, threshold=0.01)\n",
    "\n",
    "start_epoch = 0\n",
    "num_epochs = 7\n",
    "for epoch in range(start_epoch, num_epochs):\n",
    "    model.train()  # Set the model to training mode\n",
    "    total_loss = 0.0\n",
    "\n",
    "    for data_batch in tqdm(train_loader):\n",
    "        batch = {k: v.to(device) for k, v in data_batch.items()}\n",
    "        samples = batch['samples']\n",
    "        labels = batch['labels']\n",
    "        optimizer.zero_grad()  # Zero the gradients\n",
    "        outputs = model(samples)  # forward pass\n",
    "        loss = loss_fn(outputs, labels)\n",
    "        loss.backward()  # backward pass\n",
    "        optimizer.step()  # update the weights\n",
    "        total_loss += loss.item()  # accumulate the loss\n",
    "\n",
    "    # Print average loss for the epoch\n",
    "    average_loss = total_loss / len(train_loader)\n",
    "\n",
    "    # Validation phase\n",
    "    model.eval()  # Set the model to evaluation mode\n",
    "    total_val_loss = 0.0\n",
    "    BER_batch = []\n",
    "    with torch.no_grad():\n",
    "        for data_batch in tqdm(val_loader):\n",
    "            batch = {k: v.to(device) for k, v in data_batch.items()}\n",
    "            samples = batch['samples']\n",
    "            labels = batch['labels']\n",
    "            val_outputs = model(samples)\n",
    "            val_loss = loss_fn(val_outputs, labels)\n",
    "            total_val_loss += val_loss.item()\n",
    "\n",
    "            binary_predictions = torch.round(val_outputs)\n",
    "            error_count = torch.sum(binary_predictions != labels).float()\n",
    "            error_rate = error_count / len(labels.flatten())\n",
    "            BER_batch.append(error_rate.item())\n",
    "\n",
    "    \n",
    "    average_val_loss = total_val_loss / len(val_loader)\n",
    "    BER_batch_mean = np.mean(BER_batch)\n",
    "    scheduler.step(average_val_loss)\n",
    "    train_losses.append(average_loss)\n",
    "    val_losses.append(val_loss.item())\n",
    "    BER_batch_mean=np.mean(BER_batch)\n",
    "    val_BERs.append(BER_batch_mean)#(BER.item())\n",
    "\n",
    "    print(f\"Epoch [{epoch + 1}/{num_epochs}], Loss: {average_loss:.4f}, Val Loss: {average_val_loss:.4f}, Val BER: {BER_batch_mean:.4f}\")\n"
   ]
  },
  {
   "cell_type": "code",
   "execution_count": 78,
   "metadata": {},
   "outputs": [
    {
     "data": {
      "image/png": "[encoded data removed]",
      "text/plain": [
       "<Figure size 700x300 with 1 Axes>"
      ]
     },
     "metadata": {},
     "output_type": "display_data"
    }
   ],
   "source": [
    "# Plot Training Loss and Validation Loss\n",
    "plt.figure(figsize=(7, 3))\n",
    "plt.plot(train_losses, label='Training Loss')\n",
    "plt.plot(val_losses, label='Validation Loss')\n",
    "plt.xlabel('Epochs')\n",
    "plt.ylabel('Loss')\n",
    "plt.legend()\n",
    "plt.title('Training and Validation Loss Over Epochs')\n",
    "plt.grid(True)"
   ]
  },
  {
   "cell_type": "code",
   "execution_count": 79,
   "metadata": {},
   "outputs": [
    {
     "data": {
      "image/png": "[encoded data removed]",
      "text/plain": [
       "<Figure size 700x300 with 1 Axes>"
      ]
     },
     "metadata": {},
     "output_type": "display_data"
    }
   ],
   "source": [
    "# Plot Validation BER\n",
    "plt.figure(figsize=(7, 3))\n",
    "plt.plot(val_BERs, label='Validation BER')\n",
    "plt.xlabel('Epochs')\n",
    "plt.ylabel('BER')\n",
    "plt.legend()\n",
    "plt.title('Bit Error Rate (BER) on validation set')\n",
    "plt.grid(True)"
   ]
  },
  {
   "cell_type": "code",
   "execution_count": null,
   "metadata": {},
   "outputs": [],
   "source": []
  },
  {
   "cell_type": "code",
   "execution_count": 97,
   "metadata": {
    "editable": true,
    "slideshow": {
     "slide_type": ""
    },
    "tags": []
   },
   "outputs": [],
   "source": [
    "class EnhancedSimpleModel7(nn.Module):\n",
    "\n",
    "    def __init__(self, num_bits_per_symbol, H=64, W=512):\n",
    "        super(EnhancedSimpleModel7, self).__init__()\n",
    "        scale = 8\n",
    "        self.linear1 = nn.Linear(in_features=2, out_features=scale * num_bits_per_symbol)\n",
    "        self.linear2 = nn.Linear(in_features=scale * num_bits_per_symbol, out_features=scale * num_bits_per_symbol * 2)\n",
    "        self.linear3 = nn.Linear(in_features=scale * num_bits_per_symbol * 2, out_features=scale * num_bits_per_symbol * 2)\n",
    "        self.linear4 = nn.Linear(in_features=scale * num_bits_per_symbol * 2, out_features=scale * num_bits_per_symbol * 2)\n",
    "        self.linear5 = nn.Linear(in_features=scale * num_bits_per_symbol * 2, out_features=scale * num_bits_per_symbol)\n",
    "        self.linear6 = nn.Linear(in_features=scale * num_bits_per_symbol, out_features=num_bits_per_symbol)\n",
    "        self.activation = nn.LeakyReLU()\n",
    "\n",
    "\n",
    "    def forward(self, inputs):\n",
    "        y = inputs\n",
    "        z = torch.stack([y.real, y.imag], dim=0)\n",
    "        z = z.permute(1, 2, 3, 0)\n",
    "        z = self.linear1(z)\n",
    "        z = self.activation(z)\n",
    "        z = self.linear2(z)\n",
    "        z = self.activation(z)\n",
    "        z = self.linear3(z)\n",
    "        z = self.activation(z)\n",
    "        z = self.linear4(z)\n",
    "        z = self.activation(z)\n",
    "        z = self.linear5(z)\n",
    "        z = self.activation(z)\n",
    "        z = self.linear6(z)\n",
    "        z = nn.Sigmoid()(z)\n",
    "        z = z.flatten(-2, -1)\n",
    "        return z"
   ]
  },
  {
   "cell_type": "code",
   "execution_count": 98,
   "metadata": {},
   "outputs": [],
   "source": [
    "model = EnhancedSimpleModel7(num_bits_per_symbol=NUM_BITS_PER_SYMBOL, H=Frame_SIZE, W=Blocklength)\n",
    "output = model(onebatch['samples']) #[32, 64, 512] =>[32, 64, 1024]\n",
    "# Setup loss and optimizer pip install ipywidgets\n",
    "loss_fn = nn.BCELoss() #nn.BCEWithLogitsLoss()\n",
    "optimizer = torch.optim.Adam(model.parameters(), lr=0.1)\n"
   ]
  },
  {
   "cell_type": "code",
   "execution_count": 99,
   "metadata": {},
   "outputs": [],
   "source": [
    "train_losses = []\n",
    "val_losses = []\n",
    "val_BERs = []"
   ]
  },
  {
   "cell_type": "code",
   "execution_count": 100,
   "metadata": {},
   "outputs": [],
   "source": [
    "model=model.to(device)"
   ]
  },
  {
   "cell_type": "code",
   "execution_count": 101,
   "metadata": {},
   "outputs": [
    {
     "name": "stderr",
     "output_type": "stream",
     "text": [
      "100%|███████████████████████████████████████████| 80/80 [00:34<00:00,  2.30it/s]\n",
      "100%|████████████████████████████████████████| 640/640 [00:04<00:00, 134.37it/s]\n"
     ]
    },
    {
     "name": "stdout",
     "output_type": "stream",
     "text": [
      "Epoch [1/20], Loss: 0.6296, Val Loss: 0.5262, Val BER: 0.2582\n"
     ]
    },
    {
     "name": "stderr",
     "output_type": "stream",
     "text": [
      "100%|███████████████████████████████████████████| 80/80 [00:33<00:00,  2.42it/s]\n",
      "100%|████████████████████████████████████████| 640/640 [00:04<00:00, 139.32it/s]\n"
     ]
    },
    {
     "name": "stdout",
     "output_type": "stream",
     "text": [
      "Epoch [2/20], Loss: 0.4554, Val Loss: 0.4354, Val BER: 0.1956\n"
     ]
    },
    {
     "name": "stderr",
     "output_type": "stream",
     "text": [
      "100%|███████████████████████████████████████████| 80/80 [00:32<00:00,  2.48it/s]\n",
      "100%|████████████████████████████████████████| 640/640 [00:04<00:00, 137.94it/s]\n"
     ]
    },
    {
     "name": "stdout",
     "output_type": "stream",
     "text": [
      "Epoch [3/20], Loss: 0.4219, Val Loss: 0.4287, Val BER: 0.1933\n"
     ]
    },
    {
     "name": "stderr",
     "output_type": "stream",
     "text": [
      "100%|███████████████████████████████████████████| 80/80 [00:33<00:00,  2.38it/s]\n",
      "100%|████████████████████████████████████████| 640/640 [00:04<00:00, 135.67it/s]\n"
     ]
    },
    {
     "name": "stdout",
     "output_type": "stream",
     "text": [
      "Epoch [4/20], Loss: 0.4177, Val Loss: 0.4272, Val BER: 0.1948\n"
     ]
    },
    {
     "name": "stderr",
     "output_type": "stream",
     "text": [
      "100%|███████████████████████████████████████████| 80/80 [00:44<00:00,  1.81it/s]\n",
      "100%|████████████████████████████████████████| 640/640 [00:05<00:00, 121.17it/s]\n"
     ]
    },
    {
     "name": "stdout",
     "output_type": "stream",
     "text": [
      "Epoch [5/20], Loss: 0.4168, Val Loss: 0.4301, Val BER: 0.1927\n"
     ]
    },
    {
     "name": "stderr",
     "output_type": "stream",
     "text": [
      "100%|███████████████████████████████████████████| 80/80 [00:37<00:00,  2.12it/s]\n",
      "100%|████████████████████████████████████████| 640/640 [00:05<00:00, 117.02it/s]\n"
     ]
    },
    {
     "name": "stdout",
     "output_type": "stream",
     "text": [
      "Epoch [6/20], Loss: 0.4137, Val Loss: 0.4291, Val BER: 0.1939\n"
     ]
    },
    {
     "name": "stderr",
     "output_type": "stream",
     "text": [
      "100%|███████████████████████████████████████████| 80/80 [00:51<00:00,  1.57it/s]\n",
      "100%|█████████████████████████████████████████| 640/640 [00:06<00:00, 98.94it/s]\n"
     ]
    },
    {
     "name": "stdout",
     "output_type": "stream",
     "text": [
      "Epoch [7/20], Loss: 0.4129, Val Loss: 0.4242, Val BER: 0.1942\n"
     ]
    },
    {
     "name": "stderr",
     "output_type": "stream",
     "text": [
      "100%|███████████████████████████████████████████| 80/80 [00:38<00:00,  2.06it/s]\n",
      "100%|████████████████████████████████████████| 640/640 [00:05<00:00, 114.14it/s]\n"
     ]
    },
    {
     "name": "stdout",
     "output_type": "stream",
     "text": [
      "Epoch [8/20], Loss: 0.4142, Val Loss: 0.4258, Val BER: 0.1931\n"
     ]
    },
    {
     "name": "stderr",
     "output_type": "stream",
     "text": [
      "100%|███████████████████████████████████████████| 80/80 [00:46<00:00,  1.70it/s]\n",
      "100%|████████████████████████████████████████| 640/640 [00:05<00:00, 125.08it/s]\n"
     ]
    },
    {
     "name": "stdout",
     "output_type": "stream",
     "text": [
      "Epoch [9/20], Loss: 0.4112, Val Loss: 0.4209, Val BER: 0.1919\n"
     ]
    },
    {
     "name": "stderr",
     "output_type": "stream",
     "text": [
      "100%|███████████████████████████████████████████| 80/80 [00:35<00:00,  2.28it/s]\n",
      "100%|████████████████████████████████████████| 640/640 [00:04<00:00, 129.38it/s]\n"
     ]
    },
    {
     "name": "stdout",
     "output_type": "stream",
     "text": [
      "Epoch [10/20], Loss: 0.4163, Val Loss: 0.4257, Val BER: 0.1928\n"
     ]
    },
    {
     "name": "stderr",
     "output_type": "stream",
     "text": [
      "100%|███████████████████████████████████████████| 80/80 [00:35<00:00,  2.28it/s]\n",
      "100%|████████████████████████████████████████| 640/640 [00:05<00:00, 121.67it/s]\n"
     ]
    },
    {
     "name": "stdout",
     "output_type": "stream",
     "text": [
      "Epoch [11/20], Loss: 0.4147, Val Loss: 0.4268, Val BER: 0.1927\n"
     ]
    },
    {
     "name": "stderr",
     "output_type": "stream",
     "text": [
      "100%|███████████████████████████████████████████| 80/80 [00:37<00:00,  2.11it/s]\n",
      "100%|████████████████████████████████████████| 640/640 [00:05<00:00, 124.27it/s]\n"
     ]
    },
    {
     "name": "stdout",
     "output_type": "stream",
     "text": [
      "Epoch [12/20], Loss: 0.4160, Val Loss: 0.4348, Val BER: 0.1920\n"
     ]
    },
    {
     "name": "stderr",
     "output_type": "stream",
     "text": [
      "100%|███████████████████████████████████████████| 80/80 [00:33<00:00,  2.37it/s]\n",
      "100%|████████████████████████████████████████| 640/640 [00:04<00:00, 129.84it/s]\n"
     ]
    },
    {
     "name": "stdout",
     "output_type": "stream",
     "text": [
      "Epoch [13/20], Loss: 0.4141, Val Loss: 0.4263, Val BER: 0.1934\n"
     ]
    },
    {
     "name": "stderr",
     "output_type": "stream",
     "text": [
      "100%|███████████████████████████████████████████| 80/80 [00:32<00:00,  2.43it/s]\n",
      "100%|████████████████████████████████████████| 640/640 [00:05<00:00, 127.05it/s]\n"
     ]
    },
    {
     "name": "stdout",
     "output_type": "stream",
     "text": [
      "Epoch [14/20], Loss: 0.4071, Val Loss: 0.4189, Val BER: 0.1909\n"
     ]
    },
    {
     "name": "stderr",
     "output_type": "stream",
     "text": [
      "100%|███████████████████████████████████████████| 80/80 [00:33<00:00,  2.40it/s]\n",
      "100%|████████████████████████████████████████| 640/640 [00:04<00:00, 129.25it/s]\n"
     ]
    },
    {
     "name": "stdout",
     "output_type": "stream",
     "text": [
      "Epoch [15/20], Loss: 0.4060, Val Loss: 0.4182, Val BER: 0.1909\n"
     ]
    },
    {
     "name": "stderr",
     "output_type": "stream",
     "text": [
      "100%|███████████████████████████████████████████| 80/80 [00:32<00:00,  2.47it/s]\n",
      "100%|████████████████████████████████████████| 640/640 [00:05<00:00, 125.84it/s]\n"
     ]
    },
    {
     "name": "stdout",
     "output_type": "stream",
     "text": [
      "Epoch [16/20], Loss: 0.4057, Val Loss: 0.4185, Val BER: 0.1908\n"
     ]
    },
    {
     "name": "stderr",
     "output_type": "stream",
     "text": [
      "100%|███████████████████████████████████████████| 80/80 [00:33<00:00,  2.40it/s]\n",
      "100%|████████████████████████████████████████| 640/640 [00:05<00:00, 127.02it/s]\n"
     ]
    },
    {
     "name": "stdout",
     "output_type": "stream",
     "text": [
      "Epoch [17/20], Loss: 0.4065, Val Loss: 0.4176, Val BER: 0.1907\n"
     ]
    },
    {
     "name": "stderr",
     "output_type": "stream",
     "text": [
      "100%|███████████████████████████████████████████| 80/80 [00:32<00:00,  2.48it/s]\n",
      "100%|████████████████████████████████████████| 640/640 [00:04<00:00, 135.31it/s]\n"
     ]
    },
    {
     "name": "stdout",
     "output_type": "stream",
     "text": [
      "Epoch [18/20], Loss: 0.4057, Val Loss: 0.4184, Val BER: 0.1907\n"
     ]
    },
    {
     "name": "stderr",
     "output_type": "stream",
     "text": [
      "100%|███████████████████████████████████████████| 80/80 [00:32<00:00,  2.47it/s]\n",
      "100%|████████████████████████████████████████| 640/640 [00:04<00:00, 134.09it/s]\n"
     ]
    },
    {
     "name": "stdout",
     "output_type": "stream",
     "text": [
      "Epoch [19/20], Loss: 0.4058, Val Loss: 0.4177, Val BER: 0.1908\n"
     ]
    },
    {
     "name": "stderr",
     "output_type": "stream",
     "text": [
      "100%|███████████████████████████████████████████| 80/80 [00:32<00:00,  2.42it/s]\n",
      "100%|████████████████████████████████████████| 640/640 [00:04<00:00, 132.81it/s]"
     ]
    },
    {
     "name": "stdout",
     "output_type": "stream",
     "text": [
      "Epoch [20/20], Loss: 0.4056, Val Loss: 0.4193, Val BER: 0.1908\n"
     ]
    },
    {
     "name": "stderr",
     "output_type": "stream",
     "text": [
      "\n"
     ]
    }
   ],
   "source": [
    "from tqdm.auto import tqdm\n",
    "from torch.optim.lr_scheduler import ReduceLROnPlateau\n",
    "\n",
    "# Initialize the ReduceLROnPlateau scheduler\n",
    "scheduler = ReduceLROnPlateau(optimizer, mode='min', factor=0.1, patience=3, threshold=0.001)\n",
    "\n",
    "start_epoch = 0\n",
    "num_epochs = 20\n",
    "for epoch in range(start_epoch, num_epochs):\n",
    "    model.train()  # Set the model to training mode\n",
    "    total_loss = 0.0\n",
    "\n",
    "    for data_batch in tqdm(train_loader):\n",
    "        batch = {k: v.to(device) for k, v in data_batch.items()}\n",
    "        samples = batch['samples']\n",
    "        labels = batch['labels']\n",
    "        optimizer.zero_grad()  # Zero the gradients\n",
    "        outputs = model(samples)  # forward pass\n",
    "        loss = loss_fn(outputs, labels)\n",
    "        loss.backward()  # backward pass\n",
    "        optimizer.step()  # update the weights\n",
    "        total_loss += loss.item()  # accumulate the loss\n",
    "\n",
    "    # Print average loss for the epoch\n",
    "    average_loss = total_loss / len(train_loader)\n",
    "\n",
    "    # Validation phase\n",
    "    model.eval()  # Set the model to evaluation mode\n",
    "    total_val_loss = 0.0\n",
    "    BER_batch = []\n",
    "    with torch.no_grad():\n",
    "        for data_batch in tqdm(val_loader):\n",
    "            batch = {k: v.to(device) for k, v in data_batch.items()}\n",
    "            samples = batch['samples']\n",
    "            labels = batch['labels']\n",
    "            val_outputs = model(samples)\n",
    "            val_loss = loss_fn(val_outputs, labels)\n",
    "            total_val_loss += val_loss.item()\n",
    "\n",
    "            binary_predictions = torch.round(val_outputs)\n",
    "            error_count = torch.sum(binary_predictions != labels).float()\n",
    "            error_rate = error_count / len(labels.flatten())\n",
    "            BER_batch.append(error_rate.item())\n",
    "\n",
    "    \n",
    "    average_val_loss = total_val_loss / len(val_loader)\n",
    "    BER_batch_mean = np.mean(BER_batch)\n",
    "    scheduler.step(average_val_loss)\n",
    "    train_losses.append(average_loss)\n",
    "    val_losses.append(val_loss.item())\n",
    "    BER_batch_mean=np.mean(BER_batch)\n",
    "    val_BERs.append(BER_batch_mean)#(BER.item())\n",
    "\n",
    "    # Logging\n",
    "    print(f\"Epoch [{epoch + 1}/{num_epochs}], Loss: {average_loss:.4f}, Val Loss: {average_val_loss:.4f}, Val BER: {BER_batch_mean:.4f}\")\n"
   ]
  },
  {
   "cell_type": "code",
   "execution_count": 102,
   "metadata": {},
   "outputs": [
    {
     "data": {
      "image/png": "[encoded data removed]",
      "text/plain": [
       "<Figure size 700x300 with 1 Axes>"
      ]
     },
     "metadata": {},
     "output_type": "display_data"
    }
   ],
   "source": [
    "# Plot Training Loss and Validation Loss\n",
    "plt.figure(figsize=(7, 3))\n",
    "plt.plot(train_losses, label='Training Loss')\n",
    "plt.plot(val_losses, label='Validation Loss')\n",
    "plt.xlabel('Epochs')\n",
    "plt.ylabel('Loss')\n",
    "plt.legend()\n",
    "plt.title('Training and Validation Loss Over Epochs')\n",
    "plt.grid(True)"
   ]
  },
  {
   "cell_type": "code",
   "execution_count": 103,
   "metadata": {},
   "outputs": [
    {
     "data": {
      "image/png": "[encoded data removed]",
      "text/plain": [
       "<Figure size 700x300 with 1 Axes>"
      ]
     },
     "metadata": {},
     "output_type": "display_data"
    }
   ],
   "source": [
    "# Plot Validation BER\n",
    "plt.figure(figsize=(7, 3))\n",
    "plt.plot(val_BERs, label='Validation BER')\n",
    "plt.xlabel('Epochs')\n",
    "plt.ylabel('BER')\n",
    "plt.legend()\n",
    "plt.title('Bit Error Rate (BER) on validation set')\n",
    "plt.grid(True)"
   ]
  },
  {
   "cell_type": "code",
   "execution_count": 128,
   "metadata": {},
   "outputs": [],
   "source": [
    "class EnhancedSimpleModel8(nn.Module):\n",
    "\n",
    "    def __init__(self, num_bits_per_symbol, H=64, W=512):\n",
    "        super(EnhancedSimpleModel8, self).__init__()\n",
    "        scale = 8\n",
    "        self.linear1 = nn.Linear(in_features=2, out_features=scale * num_bits_per_symbol)\n",
    "        self.linear2 = nn.Linear(in_features=scale * num_bits_per_symbol, out_features=scale * num_bits_per_symbol * 2)\n",
    "        self.linear3 = nn.Linear(in_features=scale * num_bits_per_symbol * 2, out_features=scale * num_bits_per_symbol)\n",
    "        self.linear4 = nn.Linear(in_features=scale * num_bits_per_symbol, out_features=num_bits_per_symbol)\n",
    "        self.activation = nn.LeakyReLU()\n",
    "\n",
    "    def forward(self, inputs):\n",
    "        y = inputs\n",
    "        z = torch.stack([y.real, y.imag], dim=0)\n",
    "        z = z.permute(1, 2, 3, 0)\n",
    "        z = self.linear1(z)\n",
    "        z = self.activation(z)\n",
    "        z = self.linear2(z)\n",
    "        z = self.activation(z)\n",
    "        z = self.linear3(z)\n",
    "        z = self.activation(z)\n",
    "        z = self.linear4(z)\n",
    "        z = nn.Sigmoid()(z)\n",
    "        z = z.flatten(-2, -1)\n",
    "        return z"
   ]
  },
  {
   "cell_type": "code",
   "execution_count": 129,
   "metadata": {},
   "outputs": [],
   "source": [
    "model = EnhancedSimpleModel8(num_bits_per_symbol=NUM_BITS_PER_SYMBOL, H=Frame_SIZE, W=Blocklength)"
   ]
  },
  {
   "cell_type": "code",
   "execution_count": 130,
   "metadata": {},
   "outputs": [],
   "source": [
    "# Setup loss and optimizer pip install ipywidgets\n",
    "loss_fn = nn.BCELoss() #nn.BCEWithLogitsLoss()\n",
    "optimizer = torch.optim.SGD(model.parameters(), lr=0.05, momentum = 0.9)"
   ]
  },
  {
   "cell_type": "code",
   "execution_count": 131,
   "metadata": {},
   "outputs": [],
   "source": [
    "train_losses = []\n",
    "val_losses = []\n",
    "val_BERs = []"
   ]
  },
  {
   "cell_type": "code",
   "execution_count": 132,
   "metadata": {},
   "outputs": [],
   "source": [
    "model=model.to(device)"
   ]
  },
  {
   "cell_type": "code",
   "execution_count": 133,
   "metadata": {},
   "outputs": [
    {
     "name": "stderr",
     "output_type": "stream",
     "text": [
      "100%|███████████████████████████████████████████| 80/80 [00:23<00:00,  3.36it/s]\n",
      "100%|████████████████████████████████████████| 640/640 [00:03<00:00, 191.82it/s]\n"
     ]
    },
    {
     "name": "stdout",
     "output_type": "stream",
     "text": [
      "Epoch [1/20], Loss: 0.6534, Val Loss: 0.5508, Val BER: 0.3046\n"
     ]
    },
    {
     "name": "stderr",
     "output_type": "stream",
     "text": [
      "100%|███████████████████████████████████████████| 80/80 [00:17<00:00,  4.53it/s]\n",
      "100%|████████████████████████████████████████| 640/640 [00:03<00:00, 204.87it/s]\n"
     ]
    },
    {
     "name": "stdout",
     "output_type": "stream",
     "text": [
      "Epoch [2/20], Loss: 0.5732, Val Loss: 0.4413, Val BER: 0.2062\n"
     ]
    },
    {
     "name": "stderr",
     "output_type": "stream",
     "text": [
      "100%|███████████████████████████████████████████| 80/80 [00:16<00:00,  4.72it/s]\n",
      "100%|████████████████████████████████████████| 640/640 [00:03<00:00, 202.38it/s]\n"
     ]
    },
    {
     "name": "stdout",
     "output_type": "stream",
     "text": [
      "Epoch [3/20], Loss: 0.5369, Val Loss: 0.5575, Val BER: 0.2027\n"
     ]
    },
    {
     "name": "stderr",
     "output_type": "stream",
     "text": [
      "100%|███████████████████████████████████████████| 80/80 [00:18<00:00,  4.41it/s]\n",
      "100%|████████████████████████████████████████| 640/640 [00:03<00:00, 198.65it/s]\n"
     ]
    },
    {
     "name": "stdout",
     "output_type": "stream",
     "text": [
      "Epoch [4/20], Loss: 0.4939, Val Loss: 0.7969, Val BER: 0.1922\n"
     ]
    },
    {
     "name": "stderr",
     "output_type": "stream",
     "text": [
      "100%|███████████████████████████████████████████| 80/80 [00:18<00:00,  4.44it/s]\n",
      "100%|████████████████████████████████████████| 640/640 [00:03<00:00, 195.00it/s]\n"
     ]
    },
    {
     "name": "stdout",
     "output_type": "stream",
     "text": [
      "Epoch [5/20], Loss: 0.4569, Val Loss: 0.7804, Val BER: 0.1916\n"
     ]
    },
    {
     "name": "stderr",
     "output_type": "stream",
     "text": [
      "100%|███████████████████████████████████████████| 80/80 [00:17<00:00,  4.53it/s]\n",
      "100%|████████████████████████████████████████| 640/640 [00:03<00:00, 190.25it/s]\n"
     ]
    },
    {
     "name": "stdout",
     "output_type": "stream",
     "text": [
      "Epoch [6/20], Loss: 0.4389, Val Loss: 0.7645, Val BER: 0.1917\n"
     ]
    },
    {
     "name": "stderr",
     "output_type": "stream",
     "text": [
      "100%|███████████████████████████████████████████| 80/80 [00:17<00:00,  4.45it/s]\n",
      "100%|████████████████████████████████████████| 640/640 [00:03<00:00, 189.98it/s]\n"
     ]
    },
    {
     "name": "stdout",
     "output_type": "stream",
     "text": [
      "Epoch [7/20], Loss: 0.4321, Val Loss: 0.2104, Val BER: 0.1914\n"
     ]
    },
    {
     "name": "stderr",
     "output_type": "stream",
     "text": [
      "100%|███████████████████████████████████████████| 80/80 [00:21<00:00,  3.73it/s]\n",
      "100%|████████████████████████████████████████| 640/640 [00:03<00:00, 166.58it/s]\n"
     ]
    },
    {
     "name": "stdout",
     "output_type": "stream",
     "text": [
      "Epoch [8/20], Loss: 0.4286, Val Loss: 0.1283, Val BER: 0.1916\n"
     ]
    },
    {
     "name": "stderr",
     "output_type": "stream",
     "text": [
      "100%|███████████████████████████████████████████| 80/80 [00:23<00:00,  3.39it/s]\n",
      "100%|████████████████████████████████████████| 640/640 [00:04<00:00, 148.24it/s]\n"
     ]
    },
    {
     "name": "stdout",
     "output_type": "stream",
     "text": [
      "Epoch [9/20], Loss: 0.4266, Val Loss: 0.6283, Val BER: 0.1916\n"
     ]
    },
    {
     "name": "stderr",
     "output_type": "stream",
     "text": [
      "100%|███████████████████████████████████████████| 80/80 [00:26<00:00,  3.02it/s]\n",
      "100%|████████████████████████████████████████| 640/640 [00:04<00:00, 133.63it/s]\n"
     ]
    },
    {
     "name": "stdout",
     "output_type": "stream",
     "text": [
      "Epoch [10/20], Loss: 0.4248, Val Loss: 0.7726, Val BER: 0.1913\n"
     ]
    },
    {
     "name": "stderr",
     "output_type": "stream",
     "text": [
      "100%|███████████████████████████████████████████| 80/80 [00:25<00:00,  3.11it/s]\n",
      "100%|████████████████████████████████████████| 640/640 [00:04<00:00, 136.86it/s]\n"
     ]
    },
    {
     "name": "stdout",
     "output_type": "stream",
     "text": [
      "Epoch [11/20], Loss: 0.4233, Val Loss: 0.1547, Val BER: 0.1917\n"
     ]
    },
    {
     "name": "stderr",
     "output_type": "stream",
     "text": [
      "100%|███████████████████████████████████████████| 80/80 [00:21<00:00,  3.72it/s]\n",
      "100%|████████████████████████████████████████| 640/640 [00:03<00:00, 165.07it/s]\n"
     ]
    },
    {
     "name": "stdout",
     "output_type": "stream",
     "text": [
      "Epoch [12/20], Loss: 0.4220, Val Loss: 0.7836, Val BER: 0.1910\n"
     ]
    },
    {
     "name": "stderr",
     "output_type": "stream",
     "text": [
      "100%|███████████████████████████████████████████| 80/80 [00:20<00:00,  3.93it/s]\n",
      "100%|████████████████████████████████████████| 640/640 [00:03<00:00, 163.23it/s]\n"
     ]
    },
    {
     "name": "stdout",
     "output_type": "stream",
     "text": [
      "Epoch [13/20], Loss: 0.4210, Val Loss: 0.1149, Val BER: 0.1910\n"
     ]
    },
    {
     "name": "stderr",
     "output_type": "stream",
     "text": [
      "100%|███████████████████████████████████████████| 80/80 [00:20<00:00,  3.98it/s]\n",
      "100%|████████████████████████████████████████| 640/640 [00:03<00:00, 175.79it/s]\n"
     ]
    },
    {
     "name": "stdout",
     "output_type": "stream",
     "text": [
      "Epoch [14/20], Loss: 0.4201, Val Loss: 0.7463, Val BER: 0.1911\n"
     ]
    },
    {
     "name": "stderr",
     "output_type": "stream",
     "text": [
      "100%|███████████████████████████████████████████| 80/80 [00:18<00:00,  4.29it/s]\n",
      "100%|████████████████████████████████████████| 640/640 [00:03<00:00, 182.00it/s]\n"
     ]
    },
    {
     "name": "stdout",
     "output_type": "stream",
     "text": [
      "Epoch [15/20], Loss: 0.4195, Val Loss: 0.1795, Val BER: 0.1907\n"
     ]
    },
    {
     "name": "stderr",
     "output_type": "stream",
     "text": [
      "100%|███████████████████████████████████████████| 80/80 [00:18<00:00,  4.32it/s]\n",
      "100%|████████████████████████████████████████| 640/640 [00:03<00:00, 187.74it/s]\n"
     ]
    },
    {
     "name": "stdout",
     "output_type": "stream",
     "text": [
      "Epoch [16/20], Loss: 0.4190, Val Loss: 0.7754, Val BER: 0.1907\n"
     ]
    },
    {
     "name": "stderr",
     "output_type": "stream",
     "text": [
      "100%|███████████████████████████████████████████| 80/80 [00:18<00:00,  4.31it/s]\n",
      "100%|████████████████████████████████████████| 640/640 [00:03<00:00, 185.20it/s]\n"
     ]
    },
    {
     "name": "stdout",
     "output_type": "stream",
     "text": [
      "Epoch [17/20], Loss: 0.4184, Val Loss: 0.1204, Val BER: 0.1913\n"
     ]
    },
    {
     "name": "stderr",
     "output_type": "stream",
     "text": [
      "100%|███████████████████████████████████████████| 80/80 [00:17<00:00,  4.48it/s]\n",
      "100%|████████████████████████████████████████| 640/640 [00:03<00:00, 185.13it/s]\n"
     ]
    },
    {
     "name": "stdout",
     "output_type": "stream",
     "text": [
      "Epoch [18/20], Loss: 0.4180, Val Loss: 0.7194, Val BER: 0.1911\n"
     ]
    },
    {
     "name": "stderr",
     "output_type": "stream",
     "text": [
      "100%|███████████████████████████████████████████| 80/80 [00:18<00:00,  4.35it/s]\n",
      "100%|████████████████████████████████████████| 640/640 [00:03<00:00, 184.63it/s]\n"
     ]
    },
    {
     "name": "stdout",
     "output_type": "stream",
     "text": [
      "Epoch [19/20], Loss: 0.4178, Val Loss: 0.5115, Val BER: 0.1909\n"
     ]
    },
    {
     "name": "stderr",
     "output_type": "stream",
     "text": [
      "100%|███████████████████████████████████████████| 80/80 [00:18<00:00,  4.25it/s]\n",
      "100%|████████████████████████████████████████| 640/640 [00:03<00:00, 179.12it/s]"
     ]
    },
    {
     "name": "stdout",
     "output_type": "stream",
     "text": [
      "Epoch [20/20], Loss: 0.4172, Val Loss: 0.7021, Val BER: 0.1906\n"
     ]
    },
    {
     "name": "stderr",
     "output_type": "stream",
     "text": [
      "\n"
     ]
    }
   ],
   "source": [
    "from tqdm.auto import tqdm\n",
    "# Training loop\n",
    "start_epoch = 0\n",
    "num_epochs = 20\n",
    "for epoch in range(start_epoch, num_epochs):\n",
    "    total_loss = 0.0\n",
    "    model.train()  # Set the model to training mode\n",
    "\n",
    "    for index, data_batch in enumerate(tqdm(train_loader)):\n",
    "        batch = {k: v.to(device) for k, v in data_batch.items()}\n",
    "        samples = batch['samples']\n",
    "        labels = batch['labels']\n",
    "        outputs = model(samples)  # forward pass\n",
    "        loss = loss_fn(outputs, labels)\n",
    "        loss.backward()  # backward pass\n",
    "        optimizer.step()  # update the weights\n",
    "        total_loss += loss.item()  # accumulate the loss\n",
    "        optimizer.zero_grad()  # Zero the gradients\n",
    "\n",
    "    # Print average loss for the epoch\n",
    "    average_loss = total_loss / len(train_loader)\n",
    "\n",
    "    # Validation\n",
    "    model.eval()  # Set the model to evaluation mode\n",
    "    BER_batch=[]\n",
    "    with torch.no_grad():\n",
    "        for index, data_batch in enumerate(tqdm(val_loader)):\n",
    "            batch = {k: v.to(device) for k, v in data_batch.items()}\n",
    "            samples = batch['samples']\n",
    "            labels = batch['labels']\n",
    "            val_outputs = model(samples)\n",
    "            val_loss = loss_fn(val_outputs, labels)\n",
    "\n",
    "            # Convert probabilities to binary predictions (0 or 1)\n",
    "            binary_predictions = torch.round(val_outputs)\n",
    "\n",
    "            # Calculate Bit Error Rate (BER)\n",
    "            error_count = torch.sum(binary_predictions != labels).float()  # Count of unequal bits\n",
    "            error_rate = error_count / len(labels.flatten())  # Error rate calculation\n",
    "            BER_batch.append(error_rate.item())\n",
    "\n",
    "    # Save performance details\n",
    "    train_losses.append(average_loss)\n",
    "    val_losses.append(val_loss.item())\n",
    "    BER_batch_mean=np.mean(BER_batch)\n",
    "    val_BERs.append(BER_batch_mean)#(BER.item())\n",
    "\n",
    "    # Print or log validation loss after each epoch\n",
    "    print(f\"Epoch [{epoch + 1}/{num_epochs}], Loss: {average_loss:.4f}, Val Loss: {val_loss:.4f}, Val BER: {BER_batch_mean:.4f}\")\n"
   ]
  },
  {
   "cell_type": "code",
   "execution_count": 134,
   "metadata": {},
   "outputs": [
    {
     "data": {
      "image/png": "[encoded data removed]",
      "text/plain": [
       "<Figure size 700x300 with 1 Axes>"
      ]
     },
     "metadata": {},
     "output_type": "display_data"
    }
   ],
   "source": [
    "# Plot Training Loss and Validation Loss\n",
    "plt.figure(figsize=(7, 3))\n",
    "plt.plot(train_losses, label='Training Loss')\n",
    "plt.plot(val_losses, label='Validation Loss')\n",
    "plt.xlabel('Epochs')\n",
    "plt.ylabel('Loss')\n",
    "plt.legend()\n",
    "plt.title('Training and Validation Loss Over Epochs')\n",
    "plt.grid(True)"
   ]
  },
  {
   "cell_type": "code",
   "execution_count": 135,
   "metadata": {},
   "outputs": [
    {
     "data": {
      "image/png": "[encoded data removed]",
      "text/plain": [
       "<Figure size 700x300 with 1 Axes>"
      ]
     },
     "metadata": {},
     "output_type": "display_data"
    }
   ],
   "source": [
    "# Plot Validation BER\n",
    "plt.figure(figsize=(7, 3))\n",
    "plt.plot(val_BERs, label='Validation BER')\n",
    "plt.xlabel('Epochs')\n",
    "plt.ylabel('BER')\n",
    "plt.legend()\n",
    "plt.title('Bit Error Rate (BER) on validation set')\n",
    "plt.grid(True)"
   ]
  },
  {
   "cell_type": "code",
   "execution_count": 109,
   "metadata": {},
   "outputs": [],
   "source": [
    "def load_model(model_path, num_bits_per_symbol):\n",
    "    device = torch.device(\"cuda\" if torch.cuda.is_available() else \"cpu\")\n",
    "    model = EnhancedSimpleModel7(num_bits_per_symbol=num_bits_per_symbol).to(device)\n",
    "    checkpoint = torch.load(model_path, map_location=device)\n",
    "    model.load_state_dict(checkpoint['model_state_dict'])\n",
    "    model.eval()  # Set the model to evaluation mode\n",
    "    return model"
   ]
  },
  {
   "cell_type": "code",
   "execution_count": 110,
   "metadata": {},
   "outputs": [],
   "source": [
    "def evaluate_model_performance(model, num_bits_per_symbol, snr_levels, frame_size=64, blocklength=1024, batch_size=1):\n",
    "    device = torch.device(\"cuda\" if torch.cuda.is_available() else \"cpu\")\n",
    "    snr_to_ber = {}\n",
    "    for snr in snr_levels:\n",
    "        dataset = ComplexDataset(num_bits_per_symbol=num_bits_per_symbol, Frame_SIZE=frame_size, Blocklength=blocklength, DB_MIN=snr, DB_MAX=snr, totaldbs=batch_size)\n",
    "        dataloader = DataLoader(dataset=dataset, batch_size=batch_size, shuffle=False)\n",
    "\n",
    "        total_errors, total_bits = 0, 0\n",
    "        with torch.no_grad():\n",
    "            for data_batch in dataloader:\n",
    "                samples, labels = data_batch['samples'].to(device), data_batch['labels'].to(device)\n",
    "                outputs = model(samples)\n",
    "                predicted_bits = torch.round(outputs)\n",
    "                total_errors += (predicted_bits != labels).sum().item()\n",
    "                total_bits += labels.numel()\n",
    "\n",
    "        ber = total_errors / total_bits\n",
    "        snr_to_ber[snr] = ber\n",
    "\n",
    "    return snr_to_ber"
   ]
  },
  {
   "cell_type": "code",
   "execution_count": 111,
   "metadata": {},
   "outputs": [],
   "source": [
    "# Save the final trained model\n",
    "checkpoint = {\n",
    "    'epoch': epoch,\n",
    "    'model_state_dict': model.state_dict(),\n",
    "}\n",
    "modelsave_path = os.path.join(trainoutput, 'Enhanced_Simple_Model7.pth')\n",
    "torch.save(checkpoint, modelsave_path)"
   ]
  },
  {
   "cell_type": "code",
   "execution_count": 120,
   "metadata": {},
   "outputs": [
    {
     "name": "stdout",
     "output_type": "stream",
     "text": [
      "(16,)\n",
      "(16,)\n",
      "(16,)\n",
      "(16,)\n",
      "(16,)\n",
      "(16,)\n",
      "(16,)\n",
      "(16,)\n",
      "(16,)\n",
      "(16,)\n",
      "SNR: -40.0 dB, BER: 0.4968109130859375\n",
      "SNR: -31.11111111111111 dB, BER: 0.4883270263671875\n",
      "SNR: -22.22222222222222 dB, BER: 0.470947265625\n",
      "SNR: -13.333333333333332 dB, BER: 0.4149932861328125\n",
      "SNR: -4.444444444444443 dB, BER: 0.246551513671875\n",
      "SNR: 4.444444444444443 dB, BER: 0.0519256591796875\n",
      "SNR: 13.333333333333336 dB, BER: 1.52587890625e-05\n",
      "SNR: 22.22222222222223 dB, BER: 0.0\n",
      "SNR: 31.111111111111114 dB, BER: 0.0\n",
      "SNR: 40.0 dB, BER: 0.0\n"
     ]
    }
   ],
   "source": [
    "model_path = 'Enhanced_Simple_Model7.pth'\n",
    "num_bits_per_symbol = 4  # Example: 4 for 16-QAM\n",
    "snr_levels = np.linspace(-40, 40, 10)  # Example: from -10 dB to 20 dB, with 7 points\n",
    "\n",
    "# Load the pre-trained model\n",
    "model = load_model(model_path, num_bits_per_symbol)\n",
    "\n",
    "# Evaluate the model's performance\n",
    "snr_to_ber = evaluate_model_performance(model, num_bits_per_symbol, snr_levels)\n",
    "\n",
    "# Print or plot the results\n",
    "for snr, ber in snr_to_ber.items():\n",
    "    print(f\"SNR: {snr} dB, BER: {ber}\")"
   ]
  },
  {
   "cell_type": "code",
   "execution_count": 121,
   "metadata": {},
   "outputs": [
    {
     "data": {
      "image/png": "[encoded data removed]",
      "text/plain": [
       "<Figure size 1000x600 with 1 Axes>"
      ]
     },
     "metadata": {},
     "output_type": "display_data"
    }
   ],
   "source": [
    "plt.figure(figsize=(10, 6))\n",
    "plt.plot(snr_levels, list(snr_to_ber.values()), marker='o', linestyle='-')\n",
    "plt.xlabel('SNR (dB)')\n",
    "plt.ylabel('BER')\n",
    "#plt.yscale('log')\n",
    "plt.title(f'Performance Evaluation for {num_bits_per_symbol}-bits/symbol')\n",
    "plt.grid(True)\n",
    "plt.show()"
   ]
  },
  {
   "cell_type": "code",
   "execution_count": null,
   "metadata": {},
   "outputs": [],
   "source": []
  }
 ],
 "metadata": {
  "kernelspec": {
   "display_name": "Python 3 (ipykernel)",
   "language": "python",
   "name": "python3"
  },
  "language_info": {
   "codemirror_mode": {
    "name": "ipython",
    "version": 3
   },
   "file_extension": ".py",
   "mimetype": "text/x-python",
   "name": "python",
   "nbconvert_exporter": "python",
   "pygments_lexer": "ipython3",
   "version": "3.11.7"
  }
 },
 "nbformat": 4,
 "nbformat_minor": 4
}
